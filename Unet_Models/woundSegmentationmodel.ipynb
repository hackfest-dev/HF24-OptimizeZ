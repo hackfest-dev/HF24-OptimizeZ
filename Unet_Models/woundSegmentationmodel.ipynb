{
 "cells": [
  {
   "cell_type": "code",
   "execution_count": 14,
   "metadata": {},
   "outputs": [],
   "source": [
    "import tensorflow as tf\n",
    "import os\n",
    "import random\n",
    "import numpy as np\n",
    "from tqdm import tqdm\n",
    "from skimage.io import imread, imshow\n",
    "from skimage.transform import resize\n",
    "import matplotlib.pyplot as plt"
   ]
  },
  {
   "cell_type": "code",
   "execution_count": 24,
   "metadata": {},
   "outputs": [
    {
     "name": "stdout",
     "output_type": "stream",
     "text": [
      "Requirement already satisfied: scikit-image in c:\\users\\muthu\\appdata\\local\\programs\\python\\python311\\lib\\site-packages (0.22.0)\n",
      "Requirement already satisfied: numpy>=1.22 in c:\\users\\muthu\\appdata\\local\\programs\\python\\python311\\lib\\site-packages (from scikit-image) (1.24.3)\n",
      "Requirement already satisfied: scipy>=1.8 in c:\\users\\muthu\\appdata\\local\\programs\\python\\python311\\lib\\site-packages (from scikit-image) (1.11.2)\n",
      "Requirement already satisfied: networkx>=2.8 in c:\\users\\muthu\\appdata\\local\\programs\\python\\python311\\lib\\site-packages (from scikit-image) (2.8.8)\n",
      "Requirement already satisfied: pillow>=9.0.1 in c:\\users\\muthu\\appdata\\local\\programs\\python\\python311\\lib\\site-packages (from scikit-image) (9.3.0)\n",
      "Requirement already satisfied: imageio>=2.27 in c:\\users\\muthu\\appdata\\local\\programs\\python\\python311\\lib\\site-packages (from scikit-image) (2.31.5)\n",
      "Requirement already satisfied: tifffile>=2022.8.12 in c:\\users\\muthu\\appdata\\local\\programs\\python\\python311\\lib\\site-packages (from scikit-image) (2024.2.12)\n",
      "Requirement already satisfied: packaging>=21 in c:\\users\\muthu\\appdata\\roaming\\python\\python311\\site-packages (from scikit-image) (23.1)\n",
      "Requirement already satisfied: lazy_loader>=0.3 in c:\\users\\muthu\\appdata\\local\\programs\\python\\python311\\lib\\site-packages (from scikit-image) (0.3)\n",
      "Note: you may need to restart the kernel to use updated packages.\n"
     ]
    },
    {
     "name": "stderr",
     "output_type": "stream",
     "text": [
      "\n",
      "[notice] A new release of pip is available: 23.2.1 -> 24.0\n",
      "[notice] To update, run: python.exe -m pip install --upgrade pip\n"
     ]
    }
   ],
   "source": [
    "pip install scikit-image\n"
   ]
  },
  {
   "cell_type": "code",
   "execution_count": 34,
   "metadata": {},
   "outputs": [],
   "source": [
    "seed = 42\n",
    "np.random.seed = seed\n"
   ]
  },
  {
   "cell_type": "code",
   "execution_count": 35,
   "metadata": {},
   "outputs": [],
   "source": [
    "IMG_WIDTH = 128\n",
    "IMG_HEIGHT = 128\n",
    "IMG_CHANNELS = 3"
   ]
  },
  {
   "cell_type": "code",
   "execution_count": 124,
   "metadata": {},
   "outputs": [],
   "source": [
    "TRAIN_IMAGE_PATH = 'Wound_Dataset/train/images/'\n",
    "TRAIN_LABEL_PATH = 'Wound_Dataset/train/labels/'"
   ]
  },
  {
   "cell_type": "code",
   "execution_count": 102,
   "metadata": {},
   "outputs": [],
   "source": [
    "train_ids = next(os.walk(TRAIN_IMAGE_PATH))[2]"
   ]
  },
  {
   "cell_type": "code",
   "execution_count": 103,
   "metadata": {},
   "outputs": [
    {
     "name": "stdout",
     "output_type": "stream",
     "text": [
      "['0020126b06a719c36fed196c2c71f2f0_0.png', '002985bcbd572241a950bf39b4188d70_0.png', '00437234527092743faeb39bc59bd7ee_0.png', '00be2ad4736f6657b767683186615f3f_0.png', '00bf40d77104c2b4d6d55e431ca009b9_0.png', '00d87e85e220404257d75a9c6d574e0b_0.png', '01289b5d0d3f47b0de56c003ec81614a_0.png', '01289b5d0d3f47b0de56c003ec81614a_1.png', '026d4acc83cb338c02ade317e0816f61_0.png', '0272003ec882522e7bec012aac93cc26_0.png', '0272003ec882522e7bec012aac93cc26_1.png', '0272003ec882522e7bec012aac93cc26_2.png', '0272003ec882522e7bec012aac93cc26_3.png', '02858ff80779671801b922af42c72df6_0.png', '0301eae58a63514483f1f05436437ac2_0.png', '0301eae58a63514483f1f05436437ac2_1.png', '030f458bd12ad589f1c2d6ae4cc245e0_0.png', '035b9aff921b413432a9b2b6d68e4c50_1.png', '035b9aff921b413432a9b2b6d68e4c50_2.png', '03722f11a500f35511add8b2ecf54e61_0.png', '03a29338d44c41efd1856034029cb9cb_0.png', '03a29338d44c41efd1856034029cb9cb_1.png', '03a29338d44c41efd1856034029cb9cb_2.png', '03b7f4b22ab4357bbf58da1540daf836_0.png', '04475f8d2c89fbf998cf4713d234ce50_0.png', '045069bee69b9a6b457a69c564589895_0.png', '045069bee69b9a6b457a69c564589895_1.png', '045897ff55447150716a26960a3b8fd6_0.png', '04f5a57ec361e6c807bb168dadcaa8ab_0.png', '04f64bf046561f6838a4b0edb8a995d4_0.png', '04ff12bacbf32cde2df83fc1199518d8_1.png', '051d7c68ec44d127707d220a2f8a6c09_0.png', '054008cac63fbda02ca31e4c9cd5ee46_0.png', '05a18470225822d3409639821fb92174_0.png', '05bf122b0e8bf667fc2aeedd8b70d9f3_0.png', '06252257a775dfbd3a1272509efeca03_0.png', '06d5643601a23d986ce7a24ca4bb2152_0.png', '07752ea4874089617a42d82cf2ae00fb_0.png', '07971964f7d48992be468a95390f365f_0.png', '07a31c50fc96dcf841177d2c832767b9_0.png', '07a31c50fc96dcf841177d2c832767b9_1.png', '07cd49d4077e7392d36501f291706ddb_1.png', '08b680ecad190d66a8295c5255550bbf_0.png', '08e0afdaf1c0ee8199bbab7ccd91dc4b_0.png', '09174d2f9d9ac1b948ba8fb889081e88_0.png', '093bb62edcdb3f3c91316300d2278434_0.png', '095919973cde59672f21c88850a4aa09_0.png', '09b2942c518c46e4937296e182decfaa_0.png', '09bca41d50cde9fb565a929c69ea6459_0.png', '0a1522cbd777cdcea28293c46f717a6e_0.png', '0a5a3ada2bb75c4af2daf8e4726bf099_1.png', '0a5a3ada2bb75c4af2daf8e4726bf099_2.png', '0abb9eba5adac0db89364735c88860e4_0.png', '0ac40b1b34bdfebeab8fdad265e76554_0.png', '0b12ef4301fbef4071bc8a7b0beeff49_0.png', '0b1e2ebd480a39038df6a4a8b273ded2_0.png', '0b46c657b53f0d102b240cde1b02191a_0.png', '0b53daf814304dd0d74efb2fa052ef23_0.png', '0b75779bc915ab15efaebc1e8d80e4ce_0.png', '0b80c3d310aaab93d2bc5fc535339cc9_0.png', '0b80c3d310aaab93d2bc5fc535339cc9_1.png', '0bc5e8bfd852b40e2a2af5cd933e00bb_0.png', '0c2ef774c755a57b93845eed12e8029f_0.png', '0c6e5d2ef9f63c96900619d6e73063b3_0.png', '0c79e72868d6bbc3673fd091109ff6ff_0.png', '0c7b3c6b8a4e75f4a2f0bf3c83f0a708_0.png', '0d5acd2cba68de8ca3aac491d1fed529_0.png', '0daab7087d28c5b067c891d170e302d3_0.png', '0dac4ad9e961452a81183370848d3ec3_0.png', '0ddc7e1cf8508f1fcae87bd41106d8c6_0.png', '0ddc7e1cf8508f1fcae87bd41106d8c6_1.png', '0ddec5730a3d4dc673a14aa59318465e_0.png', '0e1b8a81a46984625d34e4b075c72fd2_0.png', '0e32f889d3f1b3f205184e4a78ea377e_0.png', '0e3be06fdb87162abcdf4ef6da824b1b_0.png', '0e3efb99f7529906a52c26558d37af9c_0.png', '0e9585008d43fdf08d840064a49674f3_0.png', '0f06905655751ee938d3c71e516f3084_0.png', '0f42ca66d0a67e868683aab958c70b70_0.png', '0f9e59822589ead1b752065cf09d4b87_0.png', '0fe849d1ae06c9d2ba348e0a968b5ab2_0.png', '100e9e226ad344e054a1a36191308da1_0.png', '100e9e226ad344e054a1a36191308da1_1.png', '10e7fd129f35e5055a7879e3be244408_0.png', '1154874ea6703d6d9fd28b81f9184684_0.png', '1160024c976ffe3b100704810a10137b_0.png', '11793521cb657471a6609b6a5b0b6af7_0.png', '11c4368cd336af0da7ff5681c6146ccf_0.png', '11ebfc1753d3ef581684f936c934b55e_0.png', '120ad0065480d41edfb123498de494d5_0.png', '12f816e49ae64a52d95a484a559ac2d4_0.png', '1576e366442683aac204404e081eb938_1.png', '1576e366442683aac204404e081eb938_2.png', '1576e366442683aac204404e081eb938_3.png', '15ee4679bf92307b89e2d818e8fbccd7_0.png', '160fcc9963c057d0a4754c8a39f87f1c_0.png', '160fcc9963c057d0a4754c8a39f87f1c_1.png', '160fcc9963c057d0a4754c8a39f87f1c_2.png', '16180f16e73ffb069b756f56859aec57_0.png', '1636f83a5221bc82ca5083fbe9dcaee5_0.png', '16489f399948a5dfc46c056f1d26da40_0.png', '167b854fa564c1b27e1950f82cb551e0_0.png', '16bbfa585c420f96ef4cd0812e9c163d_0.png', '17ac7a71251dd0572d75d074db6e1964_0.png', '17ed06c4768fe6d776714cdaa132a293_0.png', '18d60d8c820b5487f59dce1237f31f47_0.png', '18d60d8c820b5487f59dce1237f31f47_1.png', '1922b953c4288b20844484cd54e095bb_0.png', '198d30ff02f21203321976149131d44f_0.png', '19d43ee6c12f70035f87d57ff561a41b_1.png', '19d82f3902edcabfe3a36c9f4b34e926_0.png', '19f4e5a4e1330b6cc307fc35c625f197_0.png', '19ff49b10de40e6a431a38b19a212ec0_0.png', '1a4b3982e17b4f019481ebcba701fc24_0.png', '1a969119fbcdf79012ff301231d59e95_0.png', '1aaf67eaf95e58809c1a181f9261a55f_0.png', '1ad70e82589acbd9638b6e465366a7fe_0.png', '1ad97384d93aa85123fe2173047c3dce_0.png', '1b1cde50c229be77d0fde7f1655fa1b9_0.png', '1b43b69901255b1f2fc7aedcfefa7912_0.png', '1b68ab7a408b0c74157999bd480962a6_0.png', '1bae2d0ed76c241570479a4490f9c2a5_0.png', '1c1864fe796dc3d59999950a2c697756_1.png', '1c27d8289cbfa6a1a0da01d7ec757a46_0.png', '1c3e2a6b5afe5e83471520837c04360b_0.png', '1c58fc115fbca1fff4e83c069493625b_0.png', '1c700b5e74caa409d88eb73957906b05_0.png', '1c700b5e74caa409d88eb73957906b05_1.png', '1c700b5e74caa409d88eb73957906b05_2.png', '1c786cf021515cbe4f7d369a7f2a71b6_0.png', '1c7f4db5a82e79fd8d94d0b1539e0664_0.png', '1c8e887ad6ec44f3c6cc91e88dd59f56_0.png', '1ca743bfb56654b11fca2b038d1cc682_0.png', '1d3c85fa730afe4353328ad0eb032845_0.png', '1d557cd47276255d999c71bc49ccf493_0.png', '1d557cd47276255d999c71bc49ccf493_1.png', '1d557cd47276255d999c71bc49ccf493_2.png', '1d87e42d6146a984a037cf13a150eec0_0.png', '1d97ce42081182a66ace139dbcd83273_0.png', '1da3fff6a9495d1caf49bd708fdd7838_0.png', '1da3fff6a9495d1caf49bd708fdd7838_1.png', '1dbb00d92741863fcc6451afd48daf31_0.png', '1dbb00d92741863fcc6451afd48daf31_1.png', '1dbb00d92741863fcc6451afd48daf31_2.png', '1de7586df7bc38fc88b8214dffc33420_0.png', '1df8c0b866f6df4be6e3b35abc5b3bf9_0.png', '1e01c88f1716141cb5205a1de7e9fb5f_0.png', '1e172e50acdceb692355ba080e2146cc_0.png', '1e172e50acdceb692355ba080e2146cc_1.png', '1e18260602b2ab55a0aa48a3b452a3f9_0.png', '1e485b15d2b1854066d3362e29577150_0.png', '1e5b8ab0add235d3d0685951241c6dac_0.png', '1e84681143d967b81d3488590463eb77_0.png', '1ec8cc951c3bb8fdd532fa847c2f90d9_0.png', '1ede7f8f0776e55ac198e7585bba7c43_0.png', '1ee14186447cefc1cf16495907b2f152_0.png', '1f668d77d0a085004fa28e3ea9b03c59_0.png', '1fdaec142e08b253f991af5f5d08f988_0.png', '217189be3ad182f170ec0e1b565a1a2a_0.png', '22476241644edd0ccb41dc9d27c26d3b_1.png', '22476241644edd0ccb41dc9d27c26d3b_2.png', '22476241644edd0ccb41dc9d27c26d3b_3.png', '22625ae4786b4bfde48860accb485452_0.png', '22625ae4786b4bfde48860accb485452_1.png', '228d94b20ac204b3fa1cfede4b275ad1_0.png', '229f9949fc3ca248f91e54b11348e517_0.png', '22b9db7fdd1d44ad58d0f9b1bc959171_0.png', '22b9db7fdd1d44ad58d0f9b1bc959171_1.png', '22bd10b9edd5c1f2bdfbfd34bf5f0884_0.png', '22bd10b9edd5c1f2bdfbfd34bf5f0884_1.png', '23789535abbc5f81030070cd45a9cfde_0.png', '238becefbab364b35769011c43b60fe3_0.png', '239b837160e0a29dd5a89150e1b89178_0.png', '242f626fb9d10f9786ebc5271f53b729_0.png', '24507eb59b595f2ee951f3ece6ab5212_0.png', '24597141d24289747225c61527d97cb4_0.png', '24597141d24289747225c61527d97cb4_1.png', '24597141d24289747225c61527d97cb4_2.png', '24597141d24289747225c61527d97cb4_3.png', '245b0fdf6d0256260126311c81e8b543_0.png', '24d033a91d4fa6e1a8143d03229886fd_0.png', '24d033a91d4fa6e1a8143d03229886fd_1.png', '24d033a91d4fa6e1a8143d03229886fd_2.png', '24d033a91d4fa6e1a8143d03229886fd_3.png', '25c5504d70193d1d8cf21b9863e293d9_0.png', '25c5504d70193d1d8cf21b9863e293d9_1.png', '25c5504d70193d1d8cf21b9863e293d9_2.png', '25fbd4751a5aa2f7f5fa5fd4554b70a8_0.png', '2628fb9c453669b715cde7e5a2fd5169_0.png', '2664472bf2196368e9372077ad0fdbe2_0.png', '2675fecd4f7151f4d7d20e708708cc41_0.png', '26b0e1c37795cfb1b930a593165149c9_0.png', '26b0e1c37795cfb1b930a593165149c9_1.png', '26b0e1c37795cfb1b930a593165149c9_2.png', '26b0e1c37795cfb1b930a593165149c9_3.png', '26ee9b6cfcb3097b1f9c3d6504a3ffe2_0.png', '27679d4dd433f3cbb52b3fac0992ceee_0.png', '27af9d6d0c81c569a18f379267cfd5c8_0.png', '28d3f7cdb7d3b68029a480498dfbc279_0.png', '28d3f7cdb7d3b68029a480498dfbc279_1.png', '28d5e21944dc07f365a4627ce1d8e001_1.png', '29040e0c4889bd33bc4d18426675c6df_0.png', '29040e0c4889bd33bc4d18426675c6df_1.png', '29040e0c4889bd33bc4d18426675c6df_2.png', '29040e0c4889bd33bc4d18426675c6df_3.png', '29348067a358165866ca29d177877bc3_0.png', '29348067a358165866ca29d177877bc3_1.png', '29348067a358165866ca29d177877bc3_2.png', '293539c2baef2423a4f51e2f7cb8da39_0.png', '2941779e77be521b284a6a9867ea5b56_0.png', '2941779e77be521b284a6a9867ea5b56_1.png', '2941779e77be521b284a6a9867ea5b56_2.png', '29544fe3f010cd0ee1965a85d06fee8a_0.png', '297341efdad1ff8b99a035544636747e_0.png', '297fd021fd06e777f260732eb4c6b6df_0.png', '29a0841f35c311894f34a6e1fac1245b_0.png', '29cd5e516e177286b1c62d1f71876e1b_0.png', '29cd5e516e177286b1c62d1f71876e1b_1.png', '2a38cd7d0f8e895d827f5cdfc634522b_0.png', '2a48e7fbb41d02824a79b895f1d2cda8_0.png', '2a622fc070d8601c5b5ca71fd86f23c1_0.png', '2a622fc070d8601c5b5ca71fd86f23c1_1.png', '2aeae5c06f4a8cc786292b1bb598afd9_0.png', '2aeae5c06f4a8cc786292b1bb598afd9_1.png', '2b2c2a53aee16a6befdff3cb24c41634_0.png', '2b76f204fc28ebbe6be635e099feb791_0.png', '2bdd37e61f5ea74699afd9d82f2a00b1_0.png', '2bfab02681774125930dbd7bcef9f486_0.png', '2bfd96a42dc8f3da4e297a64881f18eb_0.png', '2c13c4147e8715cf645381ed4e06e55e_0.png', '2c6c04e7a70a7a5f46ccbdef1f176cb8_0.png', '2d3b097c8993ae0f7d0d6595238e2f7b_0.png', '2d6f3f8907b092a67c39e3d46ead8c04_0.png', '2dc52f9246e9676dc417469a6851caee_0.png', '2ddef25c454171474b25f986aec589be_0.png', '2e2bc13c6bc904debc7460780a18c886_0.png', '2e5770d4f2ab09831cac9298d4cc2d90_0.png', '2e5770d4f2ab09831cac9298d4cc2d90_1.png', '2eddc2c3a195780f85d90ca456f09423_0.png', '2f16c657ecf60b824bf7d64b4081d771_0.png', '2f1980e5fb29f92227e4dbc65d223c99_0.png', '2f26f5d792c6d7c18219c434a4978a74_0.png', '2fc1c6784ef0815924559c43bce24249_0.png', '2ff14644b638ea83cf796b31a68f7a25_0.png', '30232ee49701e60f0d93f1a142ba941b_0.png', '302d6a35b8498b1e57120c3dc277b097_0.png', '304e192225ee953643a6ac60f90f17d4_0.png', '304e192225ee953643a6ac60f90f17d4_1.png', '30d440472837f5dfd663c2a81175f213_0.png', '3126d6b3a7054ba62a43835551eb2a79_0.png', '3255f4cd9813e9be31f6917477ffd333_0.png', '328fd8bc70eea53dd1749c01ce87904c_0.png', '32a49d5a9db69d378d35e3f38259730c_0.png', '32dec6f67cc4f5c8aae39675faa9af26_0.png', '3343f8a08d04c4d7bb96454876e028cc_0.png', '334699cc2056f538ca47c018753c0faf_0.png', '33689d1fc36fd9021896986b23af9181_0.png', '336e44bfe352195e75636a12fa591d0e_0.png', '339bef196c34522163516143a4df5dc4_0.png', '33bd8385895dccb424d42c1add10aec7_0.png', '3409de10de4ffe73fcf0465d95abb894_0.png', '343cee3fa538956f45d03223ff137645_0.png', '34891c5cba00d001b88b5b839a5465a6_0.png', '34c24b6c9ae20dd0b889f0cc54330c77_0.png', '356b1005dbeb3c6f11702ee5c5623661_0.png', '357ccd3395c84a1f8b164308b72ef8fa_0.png', '357ccd3395c84a1f8b164308b72ef8fa_1.png', '3582ff9e0a283e437f9fab59dbf14ea4_0.png', '3582ff9e0a283e437f9fab59dbf14ea4_1.png', '3640860b1b2c97e1fe796033735962d1_0.png', '366755dab49d4bec9c564988928822aa_0.png', '368bc4c1451004ef3e30a38defb265c7_0.png', '36d34fdaf415e4657593c17a11905388_0.png', '375d35f02627909d4d85f10ecaa59fb8_0.png', '375d35f02627909d4d85f10ecaa59fb8_1.png', '37a0dba9feaf4c4feab8211961a109d3_0.png', '37eed8796c67c62cc8d7f23c76218c7f_1.png', '3840005b5fd6f59bab95a2030c70d6b3_0.png', '3883a34afe518fa69342d9535029f724_0.png', '38cbf1e59afb27e8abbe5494e2d2398d_0.png', '38fb853de6b6046aa102a4a8080d3fc7_0.png', '38fb853de6b6046aa102a4a8080d3fc7_1.png', '3900ade34a1c3ae5071e61635b15c41e_1.png', '3900ade34a1c3ae5071e61635b15c41e_2.png', '39098d493cf6c2ac48786ae1eb6073e6_0.png', '393ca23ea4bd9b810100a85518c720c9_0.png', '394254309ec428ce5e39f36e007e9c08_0.png', '394254309ec428ce5e39f36e007e9c08_1.png', '39c3a9ffab05344b8f61460e02b94a1e_0.png', '3a2ef4d33037afd3d0892cd88d9b359f_0.png', '3a2ef4d33037afd3d0892cd88d9b359f_1.png', '3a2ef4d33037afd3d0892cd88d9b359f_2.png', '3a5b7c21a51347df47e54313b02ebd67_0.png', '3a880cf13e68b254e13e8ee8d737f7d9_0.png', '3a8ca762d9ecaf3ee1f738fd8d822402_0.png', '3a9dd15c5e2410f8ef4a0bf7c480c254_0.png', '3ab0b5f7a8b6ace81df830c4d7968cde_0.png', '3b0119839f46bc5148fccec02baf03e2_0.png', '3b579e8d9843f801293962cd9dc5cf66_0.png', '3b57b23c01965a5d5c6dd13628c14254_0.png', '3c09e19e35aa4d2b40151efe9ec3b6d9_0.png', '3c18545523ad4e933f8c5cb4ed0e7bae_0.png', '3c3cb96f8cb5c1df425d2640c4884939_0.png', '3cc16605bf9d9873debeec4fc90999a0_0.png', '3ccb5a2aa0f9c97ae1fc878128fb6263_0.png', '3d2c261254b348b3ec24fc0abaf047fa_1.png', '3d3b13a17531be10f7c2ab854dbb4073_0.png', '3d3cb428d6478844060dcf5cd6d168d1_0.png', '3d471880a73b751ffb76906fe7191184_0.png', '3da15725e8a26e1c0f1016ad8046adee_0.png', '3da2dcfdb655b741e1b97119f964e460_0.png', '3db1bf879432c585805c9f4ca236a794_0.png', '3ebe58a6e4308ec19e226136af299b1a_0.png', '3ed2bf6e2ef1d94d42c949a841a561d3_0.png', '3eef4daad81edeb5e367e1c564221d6e_0.png', '3f6f6c9b899b18ded1de9ada182264fd_0.png', '3f6f6c9b899b18ded1de9ada182264fd_1.png', '3fa4a23120e1cfd4fb054baba02710f0_0.png', '3ffb36f9bb2cafacf396c327f4df1cfc_0.png', '405c6fd83be329ebd1f9add6e58def0c_0.png', '40991900d01e82b4bda448147b614027_0.png', '41a345d5417528ecdf4d1a272f3938a9_1.png', '41a345d5417528ecdf4d1a272f3938a9_2.png', '41a345d5417528ecdf4d1a272f3938a9_3.png', '41ee08289fc69cb37694df30a64a8fd0_0.png', '42784ffe6e9fd4b5b5edabd37bad417b_0.png', '42c0f8ebd22e9e9b84f8286b1879bf41_0.png', '42c0f8ebd22e9e9b84f8286b1879bf41_1.png', '42e9b72e84d7d39d0faa08d9da9d27d1_0.png', '42f929bf3341f8a1f04690762786ae49_0.png', '42f929bf3341f8a1f04690762786ae49_1.png', '434240ed39b9ead49e5538604ac10534_0.png', '434d22be5b5665d0a8a841b70043e49e_0.png', '43a9030ae6bdfae4e08049bc3614d18a_0.png', '43a9030ae6bdfae4e08049bc3614d18a_1.png', '440078c6936219a7a496ebc67228d5d5_0.png', '440078c6936219a7a496ebc67228d5d5_1.png', '4488b78d0fa37b21f756857339ed7e9e_0.png', '44f58b3c8507e9c2f5d2d3909fcfff48_0.png', '45fb5f2db8202432f78f9862336cdf14_0.png', '45fb5f2db8202432f78f9862336cdf14_1.png', '45fb5f2db8202432f78f9862336cdf14_2.png', '4652960a0fe00c064a36d4b8072020b8_0.png', '46d539e01ef169fb7eeacdfc8bd30ecf_0.png', '4734aec96756d02ac3bb3f5d440c01cf_0.png', '47713ebf42e1606ebb9167b04fc9c937_0.png', '47b044c07a81011c406cfa995b9f82ad_0.png', '47bfb50bd5f3c67d0bfcb95d592e3f43_0.png', '47ced82914de2c34aef08c552cc3db10_0.png', '47db35f74ef55e48fc9655c0e610b1df_0.png', '481213086b8ad2a1c15cfbffec5eea98_0.png', '484aa6be0ea024aadc8f154b7c637a6f_0.png', '48e538b20ef8caac49e3941d6b20fe56_0.png', '490f97dbc5d1048c492948d69e6e9aba_0.png', '492510095082bca73e33e82bc577a287_0.png', '492e076e2b1bba7e8773bfce280a4b96_0.png', '4a28a0f608f3a5ec956a8a522b72c535_0.png', '4a496c06454e33d149a79aa6c559fc09_0.png', '4aa798a6549d1255dcc6ce15600eed10_0.png', '4aba015fe18465451bd74c5a9b30a853_0.png', '4aba015fe18465451bd74c5a9b30a853_1.png', '4aba7d3760fc14cf1963e09fe2a591bb_0.png', '4ac0262d24c7d2942622f93202b82008_0.png', '4ac0262d24c7d2942622f93202b82008_1.png', '4b0e2a11f3e46ca1a4e8ef72f84da334_0.png', '4bcf877455ec4bfcd1ae9fcc09591b1a_0.png', '4c04a102ed471b05e3d0be9ae55db91a_0.png', '4c188ad2db9f8935d319b2ad6007f3a1_0.png', '4c188ad2db9f8935d319b2ad6007f3a1_1.png', '4c90a6e2979a76aef7f2eaaad7b4aedb_0.png', '4cb61dcdf1f61ee735911e50e776334f_0.png', '4cb7afba9a7708f2dd1fe874de7cc56d_0.png', '4cb7afba9a7708f2dd1fe874de7cc56d_1.png', '4d0ae09266e45178c65b2c217d2ccd43_0.png', '4d0ae09266e45178c65b2c217d2ccd43_1.png', '4e0086e1f9b55e3914f77ddad4a59564_0.png', '4e98c002e0136477f3d3a36cf681ba4b_0.png', '4e98c002e0136477f3d3a36cf681ba4b_1.png', '4ec3e802c98a70cf04f0f23b0869c1b9_0.png', '4ed0412508164104bc694a0ce0f5bffd_0.png', '4ed0412508164104bc694a0ce0f5bffd_1.png', '4ed0412508164104bc694a0ce0f5bffd_2.png', '4f06b2592454c9230771d81fe2d8b036_0.png', '4fff394b855d2d3c86469e487132e55c_0.png', '4fff394b855d2d3c86469e487132e55c_1.png', '511c68945c4fe8ab852b8c16b34f0973_0.png', '511ddc4352078963ea80d407a3cc75a8_0.png', '5140a859665a7506c3ffd9d7b0dac649_0.png', '51518778a4cad4dd361e0adff381889c_0.png', '51d7a79d227f81fe4b9f114254c180f9_0.png', '5294c38e326232e9dade1f117ebdb669_0.png', '52e182aa8e0bca1e7032c2a74e8b9fa3_0.png', '52e182aa8e0bca1e7032c2a74e8b9fa3_1.png', '52ef1e670e4b103c7fd06e24ba0a07ec_0.png', '53179510fe106a3768a6789418fc2dcb_0.png', '534d5feeb6a595b6d145314d954fb85e_0.png', '53b50f36a529702794331e1014345ae1_0.png', '54284bf2b27f9bdf178aa639dfb008a3_0.png', '547594089d93c157d47a612f982bbcd8_0.png', '5492fe099502ce4c418e8d6686fac07d_0.png', '5492fe099502ce4c418e8d6686fac07d_1.png', '5492fe099502ce4c418e8d6686fac07d_2.png', '5492fe099502ce4c418e8d6686fac07d_3.png', '5492fe099502ce4c418e8d6686fac07d_4.png', '54d67064d4e326c7508a57080d93a354_0.png', '54e172d782a2db46790133c79ddb29bf_0.png', '5636e9466f61ac6d2f0ad22f626e55c7_0.png', '5636e9466f61ac6d2f0ad22f626e55c7_1.png', '566e9d027535d82373ba0a08c1c17292_0.png', '5677aaefcaa811a2bb8d2da493332849_0.png', '567f83196d5e0fc57c9bd34204e8fc1d_0.png', '56b0a7e026d3bac21b54842497b27292_0.png', '56bafc3eafc552f2f0c4568baa31cc83_0.png', '56c170ce91161d741c7861dc99a6c907_0.png', '56e556ca0c2a124838d68fbaf75e8c45_0.png', '56eeddbb9ac27bb03d4ae4b234f8d9c6_0.png', '56fde0f77df0329cd7838037b4375af4_0.png', '570a4fd65570badcf863addb1c465e9e_0.png', '5734324b4b1b0bd490a824d7ad2691af_0.png', '577e0d90e4184b17ffbcff8fe3d494d7_0.png', '578116d30a5c8c4f9f9637e95475cff8_0.png', '57c68b56a3d58d69f4d5f2260b186847_0.png', '57c68b56a3d58d69f4d5f2260b186847_1.png', '57cb332cf7723fa2b843bc413c44d328_0.png', '58a7d837323a9a63fababdf4ab853a0f_0.png', '58b1025b124be051254cf0071fae910f_0.png', '58b262fa02e3d7ddff87aca1e69b90df_0.png', '58f747566c680c141820af36fc9d0d4f_0.png', '595332a890e442b8f02265bd3c905491_0.png', '59832f153f630e465c4e8515c03a280b_0.png', '59832f153f630e465c4e8515c03a280b_1.png', '59a8a7f008ee641169fb318aac9e2c50_0.png', '59d85a06bbfbfa3ee0b7913c87a52546_0.png', '5ba3ae56f8359fe0858e7c377c0f851c_0.png', '5bba8620466469e01bd9ab5ae9f06448_0.png', '5bba8620466469e01bd9ab5ae9f06448_1.png', '5be92f4ce89771e9322a20063624483d_1.png', '5c110aa03c68726fcd94a8b3704d8a1f_0.png', '5c6cbbbd21476ddcd9e65d9af64d3ca0_0.png', '5c73b842f2fe0c289cb2a6d4326ba406_0.png', '5c73b842f2fe0c289cb2a6d4326ba406_1.png', '5c9c9b9e3f1d124c504365cda09afb24_0.png', '5d095d8d9da705f383582f9b9fc4dcfe_0.png', '5db20f5af988d46bac432db183d2b2ad_0.png', '5dcdf3aeb0f1eb0bed843dc8e87db7f2_0.png', '5dfd465cc53b71458398e795c058172f_0.png', '5e20328f3e246c507a14001960d8c136_0.png', '5e205dcfcc2f82ba93d6056f3c7c9534_0.png', '5e5942e7ea78db4e9f0a6bdf8304421b_0.png', '5e8cc2b5bb44e1bddd4b9afc43b6252f_0.png', '5ea609f26006ac443d9c1ba35cd76033_0.png', '5eaa2cf3f82c9fd693ca0a67e9bfd3eb_0.png', '5eaa2cf3f82c9fd693ca0a67e9bfd3eb_1.png', '5ef13b806c0d5da68c9ba3b3d6ba9021_0.png', '5f01e2ce93600bc3f829a742dd85f453_0.png', '5f01e2ce93600bc3f829a742dd85f453_1.png', '5f01e2ce93600bc3f829a742dd85f453_2.png', '5f1aa951a7c2daf54acd85dcd6fe5c06_0.png', '5f48b9f2e78eba692c1de5c8bfb95231_1.png', '5f7761ed064a7f404dd445da2e73109e_0.png', '5fda1a9b96d7be43ad8e3b9e8bdc6215_0.png', '6033416ddc1c66b45f8f6974fb1220c4_0.png', '60740bef4f762d71f81682eb0cb5a411_0.png', '60740bef4f762d71f81682eb0cb5a411_1.png', '6083797b961a5fc82b84d609faebbb0b_0.png', '60bb83cb076bd12b205ee26516e8e070_0.png', '613f31cd8460cc4a46ef740cf8dd0c43_0.png', '6166651a6da51e586f355b9981ed2caa_0.png', '6188d90292bc07a97be430b59e9f97ff_0.png', '61dfd31019c941d34b7661056af0a125_0.png', '61dfd31019c941d34b7661056af0a125_1.png', '61dfd31019c941d34b7661056af0a125_2.png', '61dfd31019c941d34b7661056af0a125_3.png', '6203bb4b7a25593fdcf86b142263ab81_0.png', '62a5926e5ed687aa3d4de06ae2ab1ec9_0.png', '63b3fee11f7189b90a5b282f95fab3d4_0.png', '6421b19d29b0cc55df9c6c7c6db481db_0.png', '64cf577fd46fc2479e1e455892cbde1d_0.png', '64e6a3aa1698c158801cf38599ffe365_0.png', '6525910e4e101ca0d804423b635844fc_0.png', '65992c4c7772aee7761be2a5c24c774b_0.png', '659feb857be9ce90388f43125594e660_0.png', '65e1bf0f816af7aaa03576b0975b6a83_1.png', '6676a3130478cdd611feeff96af877a8_0.png', '667a4eea3933cbb713a966e4bfeda385_0.png', '66cf43c81c8ff6979027706db5aca769_0.png', '66d84ec7340b9a573f4dbac6deb380af_0.png', '675f840779662b86eec3f556d46ac9e4_0.png', '67843a3f8e1a47e5f3da85ec25b6d603_0.png', '6823af2c6a6af36150b0c92336beaaf6_0.png', '68bdd8588ed850b641eb874d3abc5d01_0.png', '6912c91da7b5dfb67abff920a08a246a_0.png', '6916d871eb54b7aa72a50e9fd746acb2_1.png', '69d6c5c7c679d8775b5efaac8be99a1f_0.png', '69fcf456381561c8dacb1f27223661bf_0.png', '6a03aee791e036db57285fbc677cd463_0.png', '6a03aee791e036db57285fbc677cd463_1.png', '6a09d7950126072829762d18e4303b1a_0.png', '6ae0729fa22bba50c7b8aff237cf502b_0.png', '6ae0729fa22bba50c7b8aff237cf502b_1.png', '6ae0729fa22bba50c7b8aff237cf502b_2.png', '6ae0729fa22bba50c7b8aff237cf502b_3.png', '6af390a0028f0fd2a4810c3346ee91a9_0.png', '6b3f18b206fab100fa57b78025469632_0.png', '6b72954deb36e78885d007796f7a4900_0.png', '6b82bdcf1c4e9dd4f39dbf9ceb92be13_0.png', '6b82bdcf1c4e9dd4f39dbf9ceb92be13_1.png', '6bcc1caf975bc9701b5610df670cb11f_0.png', '6c195aabce296c2bca841d49b8502639_0.png', '6c29a0da167f46202e2a21e605e14331_1.png', '6c3f5aee99450c45cf814cf66888445f_0.png', '6c51124dbb1a0a3e91368d83fc89a38e_1.png', '6c58d20b99df1c5eed126bf5e5686696_0.png', '6c814e96b2f2aff9af0a2aa6a9dde6b7_0.png', '6c814e96b2f2aff9af0a2aa6a9dde6b7_1.png', '6ce0133e84d48b6b6be5b202645cac83_0.png', '6cfc932ec6394e4f6f47559f983981a4_0.png', '6d19f77c47cc9606c7b8a5de35ee432a_1.png', '6d72946919a78eee7c0aa5f445fa0d6d_0.png', '6e1e53f7f408cd13696af6c3e8d0248c_0.png', '6ed6df09c891b32f5e374aefed329dc5_0.png', '6eda78d485feff32896cd2e66c2acce2_0.png', '6ee9006e981a0fdbd3af39335617fde0_0.png', '6ef396db61ba2d8503426f01bedfb01e_0.png', '6f81eaaea83ff09649d5842dd2ab48fc_0.png', '6fed027b91cec55f75de19f29b9a972f_0.png', '70317a1886459a44c1a96983aca30157_0.png', '7041b734ec505713634d9d4b8ce8e181_0.png', '70a364cdbff361ee4a7885ceb1792e5d_0.png', '71111745329c7b6029c48edf964dbed5_0.png', '711c45c96ba87b3c3f14efce60ef705b_0.png', '71372bc5f51c34fb545723b9fbd7bb66_0.png', '7166f10b6e373784bb85dd8d12dab99c_0.png', '721f045a58f30c133f65a2baab901491_0.png', '72394b61bd797878f4abdcde4c78847d_1.png', '73af96e685b80cbe5c8bfaf40c60f804_0.png', '73af96e685b80cbe5c8bfaf40c60f804_1.png', '73af96e685b80cbe5c8bfaf40c60f804_2.png', '73ca74fd4878a32f647035c9d8009b32_0.png', '73fdc8c4a92cdb0dfa9cd23d317df01e_0.png', '7407fe5dc1e4fbe40b0611edadd497d3_0.png', '745fcf7273ca7b2ae41f3134f68ee4c7_0.png', '74d0794161306fec7e1fd9f69299e35b_0.png', '74ec1ea5ef38de4666d5031d0b9f4c26_0.png', '7504bb84108062fa8c4d6220f55f171d_0.png', '7504bb84108062fa8c4d6220f55f171d_1.png', '754479624f175e6635dd8bf1a4ee50d7_0.png', '754479624f175e6635dd8bf1a4ee50d7_1.png', '754479624f175e6635dd8bf1a4ee50d7_2.png', '759fadabb15a5e83619fed5af82c63e3_0.png', '75b8ceec475d152ad19086771cd0d8d9_0.png', '75bf12b779263ac07eb74fe3baa755bf_0.png', '75bf12b779263ac07eb74fe3baa755bf_1.png', '75bf12b779263ac07eb74fe3baa755bf_2.png', '75bf12b779263ac07eb74fe3baa755bf_3.png', '75c8025c225798470245520582b90391_0.png', '75c868da5052f29262ec09d248b51e09_1.png', '7608f90d0bd47df832dda47797c9c863_0.png', '763d33f6f63870f599ac42e25b0b3cb2_0.png', '769421654c88e404b750d5ee4fcc79e9_0.png', '769701bddfae87e276736e4a3048fab6_0.png', '76a8e19f10101807b5246293fd346c7d_0.png', '76d766b440bf3385a7786564955be0a1_0.png', '76d766b440bf3385a7786564955be0a1_1.png', '76d766b440bf3385a7786564955be0a1_2.png', '776777c6bbe90594211bfca081d7a365_0.png', '77bf2951ff40d63129ce9e3dbd96e711_0.png', '77bf2951ff40d63129ce9e3dbd96e711_1.png', '77bf2951ff40d63129ce9e3dbd96e711_2.png', '77bf2951ff40d63129ce9e3dbd96e711_3.png', '78c5be8a07ce437c3df17acfc16d567e_0.png', '78c5be8a07ce437c3df17acfc16d567e_1.png', '78c5be8a07ce437c3df17acfc16d567e_2.png', '78c5be8a07ce437c3df17acfc16d567e_3.png', '78e8b3949c218a48ca5668fbdb75475f_0.png', '7a66638547495b66262715828c8afcd0_0.png', '7a720e6c1c028fc092cfaeae1f468e87_0.png', '7a78e18def0d8e8562a4d11f53af1eb8_0.png', '7a78e18def0d8e8562a4d11f53af1eb8_1.png', '7aa82ff82beff9be793f71a25f2e17e2_0.png', '7bfd2cbc6371189ff2992016d17767f0_0.png', '7c2b933bc1a51ded68a617a410335e25_1.png', '7cb460a773bf404f7441cef8090592a2_0.png', '7cfe36aa0005e72da7025dbc0a9f891b_0.png', '7d2c0b2e71f8641a53815e928581b0fc_0.png', '7deae8ddc14bbb15929861c5d957a638_0.png', '7e306a1fb449a2631edc1850facefb82_0.png', '7eabaf580818c84180f30b1304bc3ad9_0.png', '7ee61914de5a42fd8e234da03e72e505_1.png', '7ee61914de5a42fd8e234da03e72e505_2.png', '8042d0a73f2955a366f5f65ce2a4eb29_0.png', '8044c4db4e766825d0b10fbdc724b297_0.png', '806cc3a42fa1d28c56cbcd3781b05966_0.png', '80b4d29fc5144fbdb795754ef671b03e_0.png', '80b4d29fc5144fbdb795754ef671b03e_1.png', '81681f5db9e06b481495d7c53f25c960_0.png', '816b2c8cbdaa48026c25f79587082816_0.png', '81a87161323b4e9275623b551fa51659_0.png', '81c1637977f900ef575750af27a90d50_0.png', '81df32c19f357191e7c9f29b94adcc11_0.png', '820e78beb09fdc1d5a2774d3717d0853_0.png', '822cbb86d197f0a99536c8f74a4d6ce2_0.png', '824364666e108356df90c70a3444ec61_0.png', '828ac51cdc7255a4f32f4fb2f04d285e_0.png', '83c692875905017286925d4396676196_0.png', '83d9bb4ccfd4f8c55b34f96dad8b71da_0.png', '8452f3abc9d20898ef6de9edf95c3963_0.png', '84a133a536f44c56c8bb4b005a4d82c4_0.png', '84bbfd94916171db7ba7b9e847c138c4_0.png', '84bd1ab33e0c857bdefb3acd23a8e70f_0.png', '84cce3a412ffaf31f9b3144b9ad40b16_0.png', '855067521b74ba3f3affc8ef4e61323f_0.png', '85b414fbd98b029cb61e47139ce0435f_0.png', '85ca25138509f9a67a9ebb58bd90b215_0.png', '85dc163cc7f87af306322b1776906af6_0.png', '870640cd12cfdfe8366e97db14227891_0.png', '870b7ea6239da9887f77682c5eb2ad51_0.png', '870b7ea6239da9887f77682c5eb2ad51_1.png', '870b7ea6239da9887f77682c5eb2ad51_2.png', '874da824cf21b556c6a61dd2ab7fbae8_0.png', '87832ce91343423b474ffbcc7c3e7cf5_0.png', '87832ce91343423b474ffbcc7c3e7cf5_1.png', '87c73026a0a864fdcddb7e323441fc3b_0.png', '87c73026a0a864fdcddb7e323441fc3b_1.png', '87f9643ecf1e1dcc23293137f4623a4f_0.png', '87f9643ecf1e1dcc23293137f4623a4f_1.png', '87f9643ecf1e1dcc23293137f4623a4f_2.png', '87f9e86cea732d8f1b80099160501de2_0.png', '8865af9de740a04a4eb52e63d5be0837_0.png', '88bb525a48fa4b2b4d20e147378e2e5d_0.png', '88bd59691ff1d4f4294090344b73a32e_0.png', '88c8b5c16aecd4a78d2ac5869e6fedd8_0.png', '88eb115eb5f2606908b1eb269341998c_0.png', '890dd764dfeec34a1eb71f7c928e9ebe_0.png', '891d237001ce6b42ca116da62335535d_0.png', '891d237001ce6b42ca116da62335535d_1.png', '8934505da06ec4abfdf59a81a2f831f4_0.png', '89fc2a56f9d64474e96b46f3f8723329_0.png', '8a18f8e219f8e92bdcb2dd2be4a11b16_0.png', '8a7bb192a5b8bf8fc0ba746f82bcf2ff_0.png', '8ac79cecafc3a0a99896e8c36f6bac3e_0.png', '8ac79cecafc3a0a99896e8c36f6bac3e_1.png', '8ae8d72c95eac83858981869ae4b8ef5_0.png', '8ae8d72c95eac83858981869ae4b8ef5_1.png', '8b7f46cb2a88003694abd21260f3ff02_0.png', '8c1914f73a44d17a6cd0e5c8be270a6e_0.png', '8c5e4a98e125b704f2392e27b02175e7_1.png', '8c621970fe7ed9d5b563e4097d31d609_0.png', '8c9c46fac2d68c6c2bec8ac45acbb3a3_0.png', '8d03b509c861b4c8af3a2e889e187f72_0.png', '8d78da46e681d5ac7ed6101b511acfc0_0.png', '8dfea101ac352b10cf53d6cfec340aa6_0.png', '8e3c87493da30f92bf75fb7ea9c04786_0.png', '8e3c87493da30f92bf75fb7ea9c04786_1.png', '8ebf747b135493791f1c9564c0e2b210_0.png', '8ee0d690e13b71793d999275b9530556_0.png', '8f34d3bc96d612f3fc9a2d550814258b_0.png', '8f941aa493291b5dc76fec6f6caf898b_0.png', '909dd7f82c7e3be9e34e3a97f5694eaa_0.png', '90ecf9a6a008195a59d2cc03f34ab3bd_0.png', '911de1a195b1054b8a0df9b2fe05c59a_0.png', '914e2841960079c511504fe5a5c01ca8_0.png', '914e2841960079c511504fe5a5c01ca8_1.png', '917bc443be555adfdf9d0be213118859_0.png', '917bc443be555adfdf9d0be213118859_1.png', '917bc443be555adfdf9d0be213118859_2.png', '91db991310f27629d91d793bc6d81fd3_0.png', '92451abdfb6109ed435b9431d025d4e3_0.png', '92d95396a8ca72d19cbdf1e8366740c8_1.png', '935dde95ba399c0e257dc23b5258a7fa_0.png', '93aa6732e14fe5ad93bde1fa486db8e0_0.png', '93af57b15c562d6da62d76ededa14be4_0.png', '93b5c81b291bbcba6e0ce5c60516aafd_0.png', '93b5c81b291bbcba6e0ce5c60516aafd_1.png', '9448d85caa0130c2119e93c749c363cc_0.png', '9448d85caa0130c2119e93c749c363cc_1.png', '947a9663ea59a185aa30093699e48d2d_0.png', '949e9a64356e7f66cb3cb83ed6048a71_0.png', '95181674f01f017a911244811bd5173b_0.png', '95a9bbc0d49d5a81a827f10bcae67e84_0.png', '95c84a41ef9a4494f2bab8c4bf6f70dc_0.png', '9677a0ef4ea3f826bc6d35bb0644c7cb_0.png', '96a7113f16a0c887d9d8aeea4778b505_0.png', '96be4e2d41bac087ab77696d07e77c58_0.png', '97027cd137688fe406f7def977e7e518_0.png', '97afdc101911ffc33d0fc166cacbaf1b_0.png', '9840cd3fcc2c2e48a53f9fbcfb115cf9_0.png', '9840cd6042029d132089673c56f403c7_0.png', '985ac877be3a89ec03060f304c67c651_0.png', '98c43c94d6a028f2fdfd796c28c693a8_0.png', '9925404b06cae3cfd54b664dce4e2fd6_0.png', '99cb71db8726578ebdd44a9e1c33dd93_0.png', '9a08b61ddc72c997a6b5723a6ecd68fc_0.png', '9aaa52b5835bc762020f202cdd2f0124_0.png', '9ab7473179c763af6827d63d9778fa3b_0.png', '9ad1690c57ec153a1980f3038acfe2b4_0.png', '9b14ad9532d53a6b5fe53517f9953620_0.png', '9b82303d1b0f90c08b6feabf89366ff4_0.png', '9c03eefdae36679ce0a72669516f93b1_0.png', '9c4808de120a64c247a2a9c52c9c86c9_0.png', '9c53151d5b81f24e23043907203a0d43_0.png', '9c55686c53e1867c99a2b797d552f98c_0.png', '9cb281178383db8d50ca7e5b6af4743b_0.png', '9cb281178383db8d50ca7e5b6af4743b_1.png', '9d44b00a3b0f7af67bbef87230c8f174_0.png', '9d594f0ddf5118a35ef0a3af08353cbe_0.png', '9d594f0ddf5118a35ef0a3af08353cbe_1.png', '9de367378901a65e663fd696aa3eacf3_0.png', '9eb946a13df2fec02decd7a9a8c24664_0.png', '9fdd1f50d3e7a1ce25cac69e426d2488_0.png', 'a00b634cd2557d475fc0ad04928954ef_0.png', 'a0d972e99bdd94d151011305bc2bd92c_0.png', 'a0e95454d864462189e0e6810dbd041d_0.png', 'a0e95454d864462189e0e6810dbd041d_1.png', 'a173d05e704354de7b89157507286c7e_0.png', 'a1b5a42de7bd6eaedb86479520262687_0.png', 'a1b5a42de7bd6eaedb86479520262687_1.png', 'a1b5a42de7bd6eaedb86479520262687_2.png', 'a2115f293957c066f16ccd18556ccc52_0.png', 'a23fa00a3aae6b6f3da31c6157aeb670_0.png', 'a23fa00a3aae6b6f3da31c6157aeb670_1.png', 'a23fa00a3aae6b6f3da31c6157aeb670_2.png', 'a23fa00a3aae6b6f3da31c6157aeb670_3.png', 'a23fa00a3aae6b6f3da31c6157aeb670_4.png', 'a26286efa7050fc388b768ca2bd1a8c2_0.png', 'a26832ffa01a344df2748e848c95a7fb_0.png', 'a2d559378d488958158e360a98fed2dd_0.png', 'a2de360b4a138ad94a17ba6bce918792_0.png', 'a35853832ecc9a6b25154b9bd5cf6cf3_0.png', 'a3931d8f7a9284ba31af7056eaa8837e_1.png', 'a3931d8f7a9284ba31af7056eaa8837e_2.png', 'a3931d8f7a9284ba31af7056eaa8837e_3.png', 'a3a4299a70056310e028e1d46233ff44_0.png', 'a3a4299a70056310e028e1d46233ff44_1.png', 'a3cb46f154a3e5c032405492a1f6369f_0.png', 'a3d3f84e67a77cbdf0ac4c234cf136f8_0.png', 'a43a7af588343469c0397f7a5e3a9c0f_0.png', 'a4afc509288172c3da6fc4805e4a13ae_0.png', 'a4c303c2635ecb8b2c9e6c9968c4f5ec_0.png', 'a4d2dc260c443317ba9517905cbf3803_0.png', 'a4d2dc260c443317ba9517905cbf3803_1.png', 'a4d2dc260c443317ba9517905cbf3803_2.png', 'a4f431fa163445125bc8dc3fc3cd3f1f_0.png', 'a4f431fa163445125bc8dc3fc3cd3f1f_1.png', 'a51611ccb74793a6a1ce997c1011b68b_0.png', 'a51bb17b140b4ff5b03da4bc4538a986_0.png', 'a543071e0306613a31f331a95d2fb66e_0.png', 'a543071e0306613a31f331a95d2fb66e_1.png', 'a5731674eeb2889c6a9a882d4b98a69b_0.png', 'a5bf0d775b46c628e6b969c17e273f99_0.png', 'a5d538b8f62ce5d8e2d57b11e98bfe60_0.png', 'a63bb932fece9695681b2e6f1ee0bd05_0.png', 'a63bb932fece9695681b2e6f1ee0bd05_1.png', 'a6a0074fe11ba4cb4129ad0cd8c8039c_0.png', 'a6a0074fe11ba4cb4129ad0cd8c8039c_1.png', 'a6b1cdaffb86a40b03c1abf87078576b_0.png', 'a6e5c0ce5098696593665baff9078e24_0.png', 'a6e5c0ce5098696593665baff9078e24_1.png', 'a6e5c0ce5098696593665baff9078e24_2.png', 'a77c969895b566672fccaad9ed45037f_0.png', 'a7e38283944192cb3c85a628a9222962_0.png', 'a801b2741f0270cee55268d8744472c2_0.png', 'a82a5d09b8ae787414295a2109688304_0.png', 'a87779efe4cbcbd1b8d622f4eb0a3cf8_0.png', 'a87e022359340a7a46b849c473fe12ef_0.png', 'a87e022359340a7a46b849c473fe12ef_1.png', 'a87e022359340a7a46b849c473fe12ef_2.png', 'a8c4b8d932aadca9656d64981167e13a_0.png', 'a9359659e9c8cb5a59429e057979b52f_0.png', 'a9359659e9c8cb5a59429e057979b52f_1.png', 'a9359659e9c8cb5a59429e057979b52f_2.png', 'a936e3e598229d7d4931fd9f1dbafdf1_0.png', 'a936e3e598229d7d4931fd9f1dbafdf1_1.png', 'a936e3e598229d7d4931fd9f1dbafdf1_2.png', 'a9b5b7480409d88bdd69c5d00a58e8c5_0.png', 'a9b68c0cbf21fa8943ae56caac8c2742_1.png', 'a9b68c0cbf21fa8943ae56caac8c2742_2.png', 'a9b83f354ab887edc10ddb9ef19cc5d9_0.png', 'a9ed237a35d81537da88c9446fb19838_0.png', 'a9ed237a35d81537da88c9446fb19838_1.png', 'aa1806d15dab8c388a51ee442c5b0276_0.png', 'aa2be8b1f0298f2adde2f6240f59ed11_0.png', 'aa59d5b6f186b8046603defb1a3afa42_0.png', 'aaa40b662539b1d93d0751dd53734ca0_0.png', 'aaa40b662539b1d93d0751dd53734ca0_1.png', 'aabd02ea55316fcfb863028ad210c3d4_0.png', 'aad7a853e86b1b6426a9fd33f0d24ab0_0.png', 'aafb2fc42b97b1d9c4908400fb4e4fff_0.png', 'ab023a8ca6aa2bee24280d3ac25c0082_0.png', 'ab1e0c75309140acba9807344adba846_0.png', 'ab1e0c75309140acba9807344adba846_1.png', 'ab78761c202d21872f1d9b3e3d0c2e5f_0.png', 'ab78761c202d21872f1d9b3e3d0c2e5f_1.png', 'ab78761c202d21872f1d9b3e3d0c2e5f_2.png', 'ab78761c202d21872f1d9b3e3d0c2e5f_3.png', 'ab8ec72fb9269f306230748c1133c4cb_0.png', 'abc37f40f84631b2ee9ad858646c44f8_0.png', 'ac14253432895c178959e90770975476_0.png', 'ac64a434113a49ea5d21725df9fe0ae4_1.png', 'ac7e55f1332c4e37bcefe76f1c4e79e4_0.png', 'ac8e827066b09a8267476a686c9fa9b7_0.png', 'ad4fc0de526874b20f4456b30f4c304e_0.png', 'ad4fc0de526874b20f4456b30f4c304e_1.png', 'adbe5116dde0ef7cdb8d267811139b28_0.png', 'ade0de677bf619050b77f4efe3ad5878_0.png', 'ae65632aeabcc133bae347a9ddfb84e3_0.png', 'ae92b3b11cd7f4f352f693a22fd36d0d_0.png', 'af441bd26a6be0b538627adca753f596_0.png', 'b030bfce7ff93157dde23dbdd02881c6_0.png', 'b05a50f8b5ed7825dbbed846cea7b6bd_0.png', 'b08c34d9e82b6af851bbbac6461870ff_0.png', 'b3d73335fc2872a6959f39e2b6234cb6_0.png', 'b3f8f409a7b4e9f3956fbee5d4c3a0cc_0.png', 'b40bb91be02f2b7c20e0046b450e7276_0.png', 'b40bb91be02f2b7c20e0046b450e7276_1.png', 'b40bb91be02f2b7c20e0046b450e7276_2.png', 'b40fb736fd34d0572057ca86c54ed990_0.png', 'b415e441ce93a4166a09c03134203852_0.png', 'b415e441ce93a4166a09c03134203852_1.png', 'b563f8318b486d27a11e3fa0d5d2f4f0_0.png', 'b56853a2c67fa5838a8ae06b4b4d92f3_0.png', 'b6035dd8c83f84aa61767f77195358d9_0.png', 'b6b90a55a7ce22b235d48d98e8b9b10b_0.png', 'b6b90a55a7ce22b235d48d98e8b9b10b_1.png', 'b6ecf50bfbf4e36d6d9f0c240adf79b7_0.png', 'b6ecf50bfbf4e36d6d9f0c240adf79b7_1.png', 'b70594b218df498591241961a84e209b_0.png', 'b72c7981ed24cbb21bf1d6044d3ae39c_0.png', 'b76b12b02c748683d1a29c0a8abfb70b_0.png', 'b9c64f3dd429059c444ed58e753f213a_0.png', 'b9fff21bebb15ba7d8c3f54063e37799_0.png']\n"
     ]
    }
   ],
   "source": [
    "print(train_ids)"
   ]
  },
  {
   "cell_type": "code",
   "execution_count": 104,
   "metadata": {},
   "outputs": [],
   "source": [
    "# Initialize arrays to store images and masks\n",
    "X_train = np.zeros((len(train_ids), IMG_HEIGHT, IMG_WIDTH, IMG_CHANNELS), dtype=np.uint8)\n",
    "Y_train = np.zeros((len(train_ids), IMG_HEIGHT, IMG_WIDTH, 1), dtype=bool)"
   ]
  },
  {
   "cell_type": "code",
   "execution_count": 112,
   "metadata": {},
   "outputs": [
    {
     "name": "stdout",
     "output_type": "stream",
     "text": [
      "Resizing training images and masks\n"
     ]
    },
    {
     "name": "stderr",
     "output_type": "stream",
     "text": [
      "100%|████████████████████████████████████████████████████████████████████████████████| 831/831 [00:20<00:00, 40.30it/s]\n"
     ]
    }
   ],
   "source": [
    "print('Resizing training images and masks')\n",
    "for n, id_ in tqdm(enumerate(train_ids), total=len(train_ids)):   \n",
    "    # Read and resize image\n",
    "    image_path = os.path.join(TRAIN_IMAGE_PATH, id_)\n",
    "    img = imread(image_path)[:,:,:IMG_CHANNELS]  \n",
    "    img = resize(img, (IMG_HEIGHT, IMG_WIDTH), mode='constant', preserve_range=True)\n",
    "    X_train[n] = img  # Fill empty X_train with values from img\n",
    "\n",
    "    # Read and resize mask\n",
    "    mask_path = os.path.join(TRAIN_LABEL_PATH, id_)\n",
    "    mask = imread(mask_path)\n",
    "    mask = np.sum(mask, axis=-1, keepdims=True)  # Collapse channels by summing\n",
    "    mask = resize(mask, (IMG_HEIGHT, IMG_WIDTH), mode='constant', preserve_range=True)\n",
    "    mask = mask.astype(bool)  # Convert mask to boolean values\n",
    "    Y_train[n] = mask  # Remove extra dimensions\n"
   ]
  },
  {
   "cell_type": "code",
   "execution_count": 116,
   "metadata": {},
   "outputs": [
    {
     "data": {
      "image/png": "[encoded data removed]",
      "text/plain": [
       "<Figure size 640x480 with 1 Axes>"
      ]
     },
     "metadata": {},
     "output_type": "display_data"
    },
    {
     "data": {
      "image/png": "[encoded data removed]",
      "text/plain": [
       "<Figure size 640x480 with 1 Axes>"
      ]
     },
     "metadata": {},
     "output_type": "display_data"
    }
   ],
   "source": [
    "image_x = random.randint(0, len(train_ids))\n",
    "imshow(X_train[image_x])\n",
    "plt.show()\n",
    "imshow(np.squeeze(Y_train[image_x]))\n",
    "plt.show()\n"
   ]
  },
  {
   "cell_type": "code",
   "execution_count": 27,
   "metadata": {},
   "outputs": [],
   "source": [
    "#Contraction path\n",
    "c1 = tf.keras.layers.Conv2D(16, (3, 3), activation='relu', kernel_initializer='he_normal', padding='same')(s)\n",
    "c1 = tf.keras.layers.Dropout(0.1)(c1)\n",
    "c1 = tf.keras.layers.Conv2D(16, (3, 3), activation='relu', kernel_initializer='he_normal', padding='same')(c1)\n",
    "p1 = tf.keras.layers.MaxPooling2D((2, 2))(c1)\n",
    "\n",
    "c2 = tf.keras.layers.Conv2D(32, (3, 3), activation='relu', kernel_initializer='he_normal', padding='same')(p1)\n",
    "c2 = tf.keras.layers.Dropout(0.1)(c2)\n",
    "c2 = tf.keras.layers.Conv2D(32, (3, 3), activation='relu', kernel_initializer='he_normal', padding='same')(c2)\n",
    "p2 = tf.keras.layers.MaxPooling2D((2, 2))(c2)\n",
    "\n",
    "c3 = tf.keras.layers.Conv2D(64, (3, 3), activation='relu', kernel_initializer='he_normal', padding='same')(p2)\n",
    "c3 = tf.keras.layers.Dropout(0.2)(c3)\n",
    "c3 = tf.keras.layers.Conv2D(64, (3, 3), activation='relu', kernel_initializer='he_normal', padding='same')(c3)\n",
    "p3 = tf.keras.layers.MaxPooling2D((2, 2))(c3)\n",
    "\n",
    "c4 = tf.keras.layers.Conv2D(128, (3, 3), activation='relu', kernel_initializer='he_normal', padding='same')(p3)\n",
    "c4 = tf.keras.layers.Dropout(0.2)(c4)\n",
    "c4 = tf.keras.layers.Conv2D(128, (3, 3), activation='relu', kernel_initializer='he_normal', padding='same')(c4)\n",
    "p4 = tf.keras.layers.MaxPooling2D(pool_size=(2, 2))(c4)\n",
    "\n",
    "c5 = tf.keras.layers.Conv2D(256, (3, 3), activation='relu', kernel_initializer='he_normal', padding='same')(p4)\n",
    "c5 = tf.keras.layers.Dropout(0.3)(c5)\n",
    "c5 = tf.keras.layers.Conv2D(256, (3, 3), activation='relu', kernel_initializer='he_normal', padding='same')(c5)"
   ]
  },
  {
   "cell_type": "code",
   "execution_count": 28,
   "metadata": {},
   "outputs": [],
   "source": [
    "#Expansive path \n",
    "u6 = tf.keras.layers.Conv2DTranspose(128, (2, 2), strides=(2, 2), padding='same')(c5)\n",
    "u6 = tf.keras.layers.concatenate([u6, c4])\n",
    "c6 = tf.keras.layers.Conv2D(128, (3, 3), activation='relu', kernel_initializer='he_normal', padding='same')(u6)\n",
    "c6 = tf.keras.layers.Dropout(0.2)(c6)\n",
    "c6 = tf.keras.layers.Conv2D(128, (3, 3), activation='relu', kernel_initializer='he_normal', padding='same')(c6)\n",
    "\n",
    "u7 = tf.keras.layers.Conv2DTranspose(64, (2, 2), strides=(2, 2), padding='same')(c6)\n",
    "u7 = tf.keras.layers.concatenate([u7, c3])\n",
    "c7 = tf.keras.layers.Conv2D(64, (3, 3), activation='relu', kernel_initializer='he_normal', padding='same')(u7)\n",
    "c7 = tf.keras.layers.Dropout(0.2)(c7)\n",
    "c7 = tf.keras.layers.Conv2D(64, (3, 3), activation='relu', kernel_initializer='he_normal', padding='same')(c7)\n",
    "\n",
    "u8 = tf.keras.layers.Conv2DTranspose(32, (2, 2), strides=(2, 2), padding='same')(c7)\n",
    "u8 = tf.keras.layers.concatenate([u8, c2])\n",
    "c8 = tf.keras.layers.Conv2D(32, (3, 3), activation='relu', kernel_initializer='he_normal', padding='same')(u8)\n",
    "c8 = tf.keras.layers.Dropout(0.1)(c8)\n",
    "c8 = tf.keras.layers.Conv2D(32, (3, 3), activation='relu', kernel_initializer='he_normal', padding='same')(c8)\n",
    "\n",
    "u9 = tf.keras.layers.Conv2DTranspose(16, (2, 2), strides=(2, 2), padding='same')(c8)\n",
    "u9 = tf.keras.layers.concatenate([u9, c1], axis=3)\n",
    "c9 = tf.keras.layers.Conv2D(16, (3, 3), activation='relu', kernel_initializer='he_normal', padding='same')(u9)\n",
    "c9 = tf.keras.layers.Dropout(0.1)(c9)\n",
    "c9 = tf.keras.layers.Conv2D(16, (3, 3), activation='relu', kernel_initializer='he_normal', padding='same')(c9)"
   ]
  },
  {
   "cell_type": "code",
   "execution_count": 29,
   "metadata": {},
   "outputs": [],
   "source": [
    "outputs = tf.keras.layers.Conv2D(1, (1, 1), activation='sigmoid')(c9)"
   ]
  },
  {
   "cell_type": "code",
   "execution_count": 30,
   "metadata": {},
   "outputs": [
    {
     "name": "stdout",
     "output_type": "stream",
     "text": [
      "Model: \"model_1\"\n",
      "__________________________________________________________________________________________________\n",
      " Layer (type)                Output Shape                 Param #   Connected to                  \n",
      "==================================================================================================\n",
      " input_2 (InputLayer)        [(None, 128, 128, 3)]        0         []                            \n",
      "                                                                                                  \n",
      " lambda_1 (Lambda)           (None, 128, 128, 3)          0         ['input_2[0][0]']             \n",
      "                                                                                                  \n",
      " conv2d_19 (Conv2D)          (None, 128, 128, 16)         448       ['lambda_1[0][0]']            \n",
      "                                                                                                  \n",
      " dropout_9 (Dropout)         (None, 128, 128, 16)         0         ['conv2d_19[0][0]']           \n",
      "                                                                                                  \n",
      " conv2d_20 (Conv2D)          (None, 128, 128, 16)         2320      ['dropout_9[0][0]']           \n",
      "                                                                                                  \n",
      " max_pooling2d_4 (MaxPoolin  (None, 64, 64, 16)           0         ['conv2d_20[0][0]']           \n",
      " g2D)                                                                                             \n",
      "                                                                                                  \n",
      " conv2d_21 (Conv2D)          (None, 64, 64, 32)           4640      ['max_pooling2d_4[0][0]']     \n",
      "                                                                                                  \n",
      " dropout_10 (Dropout)        (None, 64, 64, 32)           0         ['conv2d_21[0][0]']           \n",
      "                                                                                                  \n",
      " conv2d_22 (Conv2D)          (None, 64, 64, 32)           9248      ['dropout_10[0][0]']          \n",
      "                                                                                                  \n",
      " max_pooling2d_5 (MaxPoolin  (None, 32, 32, 32)           0         ['conv2d_22[0][0]']           \n",
      " g2D)                                                                                             \n",
      "                                                                                                  \n",
      " conv2d_23 (Conv2D)          (None, 32, 32, 64)           18496     ['max_pooling2d_5[0][0]']     \n",
      "                                                                                                  \n",
      " dropout_11 (Dropout)        (None, 32, 32, 64)           0         ['conv2d_23[0][0]']           \n",
      "                                                                                                  \n",
      " conv2d_24 (Conv2D)          (None, 32, 32, 64)           36928     ['dropout_11[0][0]']          \n",
      "                                                                                                  \n",
      " max_pooling2d_6 (MaxPoolin  (None, 16, 16, 64)           0         ['conv2d_24[0][0]']           \n",
      " g2D)                                                                                             \n",
      "                                                                                                  \n",
      " conv2d_25 (Conv2D)          (None, 16, 16, 128)          73856     ['max_pooling2d_6[0][0]']     \n",
      "                                                                                                  \n",
      " dropout_12 (Dropout)        (None, 16, 16, 128)          0         ['conv2d_25[0][0]']           \n",
      "                                                                                                  \n",
      " conv2d_26 (Conv2D)          (None, 16, 16, 128)          147584    ['dropout_12[0][0]']          \n",
      "                                                                                                  \n",
      " max_pooling2d_7 (MaxPoolin  (None, 8, 8, 128)            0         ['conv2d_26[0][0]']           \n",
      " g2D)                                                                                             \n",
      "                                                                                                  \n",
      " conv2d_27 (Conv2D)          (None, 8, 8, 256)            295168    ['max_pooling2d_7[0][0]']     \n",
      "                                                                                                  \n",
      " dropout_13 (Dropout)        (None, 8, 8, 256)            0         ['conv2d_27[0][0]']           \n",
      "                                                                                                  \n",
      " conv2d_28 (Conv2D)          (None, 8, 8, 256)            590080    ['dropout_13[0][0]']          \n",
      "                                                                                                  \n"
     ]
    },
    {
     "name": "stdout",
     "output_type": "stream",
     "text": [
      " conv2d_transpose_4 (Conv2D  (None, 16, 16, 128)          131200    ['conv2d_28[0][0]']           \n",
      " Transpose)                                                                                       \n",
      "                                                                                                  \n",
      " concatenate_4 (Concatenate  (None, 16, 16, 256)          0         ['conv2d_transpose_4[0][0]',  \n",
      " )                                                                   'conv2d_26[0][0]']           \n",
      "                                                                                                  \n",
      " conv2d_29 (Conv2D)          (None, 16, 16, 128)          295040    ['concatenate_4[0][0]']       \n",
      "                                                                                                  \n",
      " dropout_14 (Dropout)        (None, 16, 16, 128)          0         ['conv2d_29[0][0]']           \n",
      "                                                                                                  \n",
      " conv2d_30 (Conv2D)          (None, 16, 16, 128)          147584    ['dropout_14[0][0]']          \n",
      "                                                                                                  \n",
      " conv2d_transpose_5 (Conv2D  (None, 32, 32, 64)           32832     ['conv2d_30[0][0]']           \n",
      " Transpose)                                                                                       \n",
      "                                                                                                  \n",
      " concatenate_5 (Concatenate  (None, 32, 32, 128)          0         ['conv2d_transpose_5[0][0]',  \n",
      " )                                                                   'conv2d_24[0][0]']           \n",
      "                                                                                                  \n",
      " conv2d_31 (Conv2D)          (None, 32, 32, 64)           73792     ['concatenate_5[0][0]']       \n",
      "                                                                                                  \n",
      " dropout_15 (Dropout)        (None, 32, 32, 64)           0         ['conv2d_31[0][0]']           \n",
      "                                                                                                  \n",
      " conv2d_32 (Conv2D)          (None, 32, 32, 64)           36928     ['dropout_15[0][0]']          \n",
      "                                                                                                  \n",
      " conv2d_transpose_6 (Conv2D  (None, 64, 64, 32)           8224      ['conv2d_32[0][0]']           \n",
      " Transpose)                                                                                       \n",
      "                                                                                                  \n",
      " concatenate_6 (Concatenate  (None, 64, 64, 64)           0         ['conv2d_transpose_6[0][0]',  \n",
      " )                                                                   'conv2d_22[0][0]']           \n",
      "                                                                                                  \n",
      " conv2d_33 (Conv2D)          (None, 64, 64, 32)           18464     ['concatenate_6[0][0]']       \n",
      "                                                                                                  \n",
      " dropout_16 (Dropout)        (None, 64, 64, 32)           0         ['conv2d_33[0][0]']           \n",
      "                                                                                                  \n",
      " conv2d_34 (Conv2D)          (None, 64, 64, 32)           9248      ['dropout_16[0][0]']          \n",
      "                                                                                                  \n",
      " conv2d_transpose_7 (Conv2D  (None, 128, 128, 16)         2064      ['conv2d_34[0][0]']           \n",
      " Transpose)                                                                                       \n",
      "                                                                                                  \n",
      " concatenate_7 (Concatenate  (None, 128, 128, 32)         0         ['conv2d_transpose_7[0][0]',  \n",
      " )                                                                   'conv2d_20[0][0]']           \n",
      "                                                                                                  \n",
      " conv2d_35 (Conv2D)          (None, 128, 128, 16)         4624      ['concatenate_7[0][0]']       \n",
      "                                                                                                  \n",
      " dropout_17 (Dropout)        (None, 128, 128, 16)         0         ['conv2d_35[0][0]']           \n",
      "                                                                                                  \n",
      " conv2d_36 (Conv2D)          (None, 128, 128, 16)         2320      ['dropout_17[0][0]']          \n",
      "                                                                                                  \n",
      " conv2d_37 (Conv2D)          (None, 128, 128, 1)          17        ['conv2d_36[0][0]']           \n",
      "                                                                                                  \n",
      "==================================================================================================\n",
      "Total params: 1941105 (7.40 MB)\n",
      "Trainable params: 1941105 (7.40 MB)\n",
      "Non-trainable params: 0 (0.00 Byte)\n",
      "__________________________________________________________________________________________________\n"
     ]
    }
   ],
   "source": [
    "model = tf.keras.Model(inputs=[inputs], outputs=[outputs])\n",
    "model.compile(optimizer='adam', loss='binary_crossentropy', metrics=['accuracy'])\n",
    "model.summary()"
   ]
  },
  {
   "cell_type": "code",
   "execution_count": 119,
   "metadata": {},
   "outputs": [],
   "source": [
    "#Modelcheckpoint\n",
    "checkpointer = tf.keras.callbacks.ModelCheckpoint('woundSegmentation_model.h5', verbose=1, save_best_only=True)"
   ]
  },
  {
   "cell_type": "code",
   "execution_count": 120,
   "metadata": {},
   "outputs": [],
   "source": [
    "\n",
    "callbacks = [\n",
    "        tf.keras.callbacks.EarlyStopping(patience=3, monitor='val_loss'),\n",
    "        tf.keras.callbacks.TensorBoard(log_dir='logs'),\n",
    "        checkpointer,\n",
    "]"
   ]
  },
  {
   "cell_type": "code",
   "execution_count": 121,
   "metadata": {},
   "outputs": [
    {
     "name": "stdout",
     "output_type": "stream",
     "text": [
      "Epoch 1/25\n",
      "42/42 [==============================] - ETA: 0s - loss: 0.0739 - accuracy: 0.9658\n",
      "Epoch 1: val_loss improved from inf to 0.06819, saving model to woundSegmentation_model.h5\n",
      "42/42 [==============================] - 97s 2s/step - loss: 0.0739 - accuracy: 0.9658 - val_loss: 0.0682 - val_accuracy: 0.9713\n",
      "Epoch 2/25\n",
      "42/42 [==============================] - ETA: 0s - loss: 0.0634 - accuracy: 0.9746\n",
      "Epoch 2: val_loss did not improve from 0.06819\n",
      "42/42 [==============================] - 95s 2s/step - loss: 0.0634 - accuracy: 0.9746 - val_loss: 0.0708 - val_accuracy: 0.9710\n",
      "Epoch 3/25\n",
      "42/42 [==============================] - ETA: 0s - loss: 0.0592 - accuracy: 0.9763\n",
      "Epoch 3: val_loss improved from 0.06819 to 0.05690, saving model to woundSegmentation_model.h5\n",
      "42/42 [==============================] - 105s 3s/step - loss: 0.0592 - accuracy: 0.9763 - val_loss: 0.0569 - val_accuracy: 0.9770\n",
      "Epoch 4/25\n",
      "42/42 [==============================] - ETA: 0s - loss: 0.0532 - accuracy: 0.9790\n",
      "Epoch 4: val_loss did not improve from 0.05690\n",
      "42/42 [==============================] - 120s 3s/step - loss: 0.0532 - accuracy: 0.9790 - val_loss: 0.0597 - val_accuracy: 0.9770\n",
      "Epoch 5/25\n",
      "42/42 [==============================] - ETA: 0s - loss: 0.0491 - accuracy: 0.9800\n",
      "Epoch 5: val_loss improved from 0.05690 to 0.05367, saving model to woundSegmentation_model.h5\n",
      "42/42 [==============================] - 97s 2s/step - loss: 0.0491 - accuracy: 0.9800 - val_loss: 0.0537 - val_accuracy: 0.9785\n",
      "Epoch 6/25\n",
      "42/42 [==============================] - ETA: 0s - loss: 0.0470 - accuracy: 0.9809\n",
      "Epoch 6: val_loss improved from 0.05367 to 0.05167, saving model to woundSegmentation_model.h5\n",
      "42/42 [==============================] - 92s 2s/step - loss: 0.0470 - accuracy: 0.9809 - val_loss: 0.0517 - val_accuracy: 0.9792\n",
      "Epoch 7/25\n",
      "42/42 [==============================] - ETA: 0s - loss: 0.0427 - accuracy: 0.9821\n",
      "Epoch 7: val_loss did not improve from 0.05167\n",
      "42/42 [==============================] - 109s 3s/step - loss: 0.0427 - accuracy: 0.9821 - val_loss: 0.0525 - val_accuracy: 0.9803\n",
      "Epoch 8/25\n",
      "42/42 [==============================] - ETA: 0s - loss: 0.0444 - accuracy: 0.9814\n",
      "Epoch 8: val_loss improved from 0.05167 to 0.04879, saving model to woundSegmentation_model.h5\n",
      "42/42 [==============================] - 97s 2s/step - loss: 0.0444 - accuracy: 0.9814 - val_loss: 0.0488 - val_accuracy: 0.9799\n",
      "Epoch 9/25\n",
      "42/42 [==============================] - ETA: 0s - loss: 0.0378 - accuracy: 0.9841\n",
      "Epoch 9: val_loss improved from 0.04879 to 0.04344, saving model to woundSegmentation_model.h5\n",
      "42/42 [==============================] - 104s 2s/step - loss: 0.0378 - accuracy: 0.9841 - val_loss: 0.0434 - val_accuracy: 0.9814\n",
      "Epoch 10/25\n",
      "42/42 [==============================] - ETA: 0s - loss: 0.0362 - accuracy: 0.9849\n",
      "Epoch 10: val_loss did not improve from 0.04344\n",
      "42/42 [==============================] - 93s 2s/step - loss: 0.0362 - accuracy: 0.9849 - val_loss: 0.0493 - val_accuracy: 0.9818\n",
      "Epoch 11/25\n",
      "42/42 [==============================] - ETA: 0s - loss: 0.0347 - accuracy: 0.9858\n",
      "Epoch 11: val_loss improved from 0.04344 to 0.04295, saving model to woundSegmentation_model.h5\n",
      "42/42 [==============================] - 96s 2s/step - loss: 0.0347 - accuracy: 0.9858 - val_loss: 0.0429 - val_accuracy: 0.9822\n",
      "Epoch 12/25\n",
      "42/42 [==============================] - ETA: 0s - loss: 0.0332 - accuracy: 0.9865\n",
      "Epoch 12: val_loss improved from 0.04295 to 0.03560, saving model to woundSegmentation_model.h5\n",
      "42/42 [==============================] - 94s 2s/step - loss: 0.0332 - accuracy: 0.9865 - val_loss: 0.0356 - val_accuracy: 0.9850\n",
      "Epoch 13/25\n",
      "42/42 [==============================] - ETA: 0s - loss: 0.0330 - accuracy: 0.9864\n",
      "Epoch 13: val_loss did not improve from 0.03560\n",
      "42/42 [==============================] - 91s 2s/step - loss: 0.0330 - accuracy: 0.9864 - val_loss: 0.0418 - val_accuracy: 0.9838\n",
      "Epoch 14/25\n",
      "42/42 [==============================] - ETA: 0s - loss: 0.0298 - accuracy: 0.9879\n",
      "Epoch 14: val_loss did not improve from 0.03560\n",
      "42/42 [==============================] - 89s 2s/step - loss: 0.0298 - accuracy: 0.9879 - val_loss: 0.0401 - val_accuracy: 0.9842\n",
      "Epoch 15/25\n",
      "42/42 [==============================] - ETA: 0s - loss: 0.0288 - accuracy: 0.9882\n",
      "Epoch 15: val_loss did not improve from 0.03560\n",
      "42/42 [==============================] - 95s 2s/step - loss: 0.0288 - accuracy: 0.9882 - val_loss: 0.0368 - val_accuracy: 0.9849\n"
     ]
    }
   ],
   "source": [
    "results = model.fit(X_train, Y_train, validation_split=0.2, batch_size=16, epochs=25, callbacks=callbacks)"
   ]
  },
  {
   "cell_type": "code",
   "execution_count": 123,
   "metadata": {},
   "outputs": [],
   "source": [
    "TEST_IMAGE_PATH = 'Wound_Dataset/test/images/'\n",
    "TEST_LABEL_PATH = 'Wound_Dataset/test/labels/'"
   ]
  },
  {
   "cell_type": "code",
   "execution_count": 125,
   "metadata": {},
   "outputs": [],
   "source": [
    "test_ids = next(os.walk(TEST_IMAGE_PATH))[2]"
   ]
  },
  {
   "cell_type": "code",
   "execution_count": 126,
   "metadata": {},
   "outputs": [
    {
     "name": "stdout",
     "output_type": "stream",
     "text": [
      "['b23232898bafcf304b2138af86be40b9_0.png', 'b586407933e66b112820f28448783627_0.png', 'b61269467f2dc93f3cc31f933fa7013a_0.png', 'b712446cdd649dcb735673f7322daa69_0.png', 'b99276bf857375e23da3a9f5388cd6ce_0.png', 'ba00cb9444f74badd3afada2bd3d6642_0.png', 'ba4755da013537410deae3f8386d08ba_0.png', 'ba4755da013537410deae3f8386d08ba_1.png', 'baba5451a41a555f6ea4355b4c53db59_0.png', 'baba5451a41a555f6ea4355b4c53db59_1.png', 'baf6df704ae535e46fe2f366a58f219c_0.png', 'baf6df704ae535e46fe2f366a58f219c_1.png', 'baf6df704ae535e46fe2f366a58f219c_2.png', 'baf6df704ae535e46fe2f366a58f219c_3.png', 'bb267b1abca1c53df371bc15bf592070_0.png', 'bb59a635e988cbe2323c92ff2bb04e91_0.png', 'bb7f8181ab26743700a45af24d7bc47b_0.png', 'bb7f8181ab26743700a45af24d7bc47b_1.png', 'bbcede236aef5e690eb18bb7cc585c69_0.png', 'bbf82a8180020c2a8b38e6f8c7c86d7d_0.png', 'bbfe627c5a6d2322d419a10720b9219c_0.png', 'bc29987427c1c3995fd2109e730a4336_0.png', 'bc6afdb212331d00685eae069e455957_0.png', 'bdbab63e08219299b187e057d9a7b783_0.png', 'bddd694789472ca2f679ca9263576c4c_0.png', 'be3e8ff2ee8047c2ae0f47864dadeaae_0.png', 'be4c8e6e241704330a2835daa99f732f_0.png', 'be4f560ee458e7d3be3f6fa606fbdc65_0.png', 'bf4af9461cdc6932d0314ba3245448b3_0.png', 'bf4af9461cdc6932d0314ba3245448b3_1.png', 'bff9ae20248b28c7f3d7021c1a3a03aa_0.png', 'bffbabdaa62239b903069228afa4de20_0.png', 'c004670497036e3dfeb5273bb7a10078_0.png', 'c004670497036e3dfeb5273bb7a10078_1.png', 'c004670497036e3dfeb5273bb7a10078_2.png', 'c004670497036e3dfeb5273bb7a10078_3.png', 'c0bdf99bc8fb893424093cc880e92d68_0.png', 'c0d3bfec69153f1cb8556a17fe12faa2_0.png', 'c13b32121da4b50bcdca469a79b5e7e0_0.png', 'c13f6d11078cf3a4ee57b76fc8c5dd2c_1.png', 'c147a0982732a3b9ffd4ed05f0c52590_0.png', 'c147a0982732a3b9ffd4ed05f0c52590_1.png', 'c1a8b5b3cef9b103fb5b150f3d90059b_0.png', 'c1ecb35c7bb04baeb2ce3ea6a7c43524_0.png', 'c21f26f8179c00b39d1426b089b30b2f_0.png', 'c2313e2f7edbaa2a6286e3284fff445a_0.png', 'c246ad5018b38f053c8759df84a23601_0.png', 'c265c21a78fbc8365180265e1332d004_0.png', 'c2a990b5b28deba70260ed8bf792ec7b_0.png', 'c2c6887f393a922fe5abf12988e09cac_0.png', 'c3b9e7bd99ebf6148dbee204647d21f2_0.png', 'c4352e791702719ed4ef770e305372f9_0.png', 'c45524e9ced14e2f2c2830fd8fc24b24_0.png', 'c48203372370072e4dbf236b1a2bb5bb_0.png', 'c48662d86ee00a6e011a972daf8edc09_0.png', 'c4917d2864b89a6054cbdbc1d383e927_0.png', 'c4d1e43b2a2a41377c8ce2194160bc70_0.png', 'c56e05444de7e0cbb9388c6317e9d7c5_0.png', 'c597b0deca08c4a4ff2679f23fc007ad_0.png', 'c600577c4530dca824f9bea3ee4cd3e5_0.png', 'c67fddd7b6f3d98dc0afc82e0d9d06e4_0.png', 'c69dcb7ad054b063cd0470aa944cf01e_1.png', 'c69dcb7ad054b063cd0470aa944cf01e_2.png', 'c6d01bfe1f8d1f9aa5404e64e114f0ee_0.png', 'c89d9e02226bdc10e8e259f6cd2e3b63_0.png', 'c8b2c366e585c47212fb27fb1791819c_0.png', 'c8cb5cde1cc95b62bf63a8c980c26172_0.png', 'c8cb5cde1cc95b62bf63a8c980c26172_1.png', 'c8cf2da63be1a27497baa852387fe31f_0.png', 'c8cf2da63be1a27497baa852387fe31f_1.png', 'c8cf2da63be1a27497baa852387fe31f_2.png', 'c95105b1727344ae36f8dca2a1ba4543_0.png', 'c95105b1727344ae36f8dca2a1ba4543_1.png', 'c95105b1727344ae36f8dca2a1ba4543_2.png', 'c95105b1727344ae36f8dca2a1ba4543_3.png', 'c9514185a0779a67ab879ba57b1b4330_0.png', 'c9a38a5f6f6231d7a3b27a782002975a_0.png', 'c9cd6236058744e90aae5ffc8f461f9c_0.png', 'ca7f1d6a3136067a18843121a079ae09_0.png', 'cae0a471fae3ff8bb9c02293613e9c73_0.png', 'cae42b39ca992138485e9212dda3d9c0_0.png', 'cb17569424d3c73fe71071ad8166acf2_0.png', 'cb22ef69d6adf0a06e5cc8041f61e08b_0.png', 'cb49f7106d1dc57f31fd4cd43918226c_0.png', 'cc0468314bc8131fd99ccbda215002ef_0.png', 'cc3351766035c3abf47d44130e9447fc_0.png', 'cc80544140c26be0c69e6d060884d070_0.png', 'cc80544140c26be0c69e6d060884d070_1.png', 'cc80544140c26be0c69e6d060884d070_2.png', 'cc80544140c26be0c69e6d060884d070_3.png', 'cc80544140c26be0c69e6d060884d070_4.png', 'cc89d9cbb5bf15efc483526cdf9f0082_0.png', 'cc89d9cbb5bf15efc483526cdf9f0082_1.png', 'cc89d9cbb5bf15efc483526cdf9f0082_2.png', 'cc99e6b20ced333bcf27d6e6f1a70eb1_0.png', 'cd36c27714f6577b08164d1c2de4b221_0.png', 'cd36c27714f6577b08164d1c2de4b221_1.png', 'cd36c27714f6577b08164d1c2de4b221_2.png', 'cd36c27714f6577b08164d1c2de4b221_3.png', 'cd48eee56a2620f857f7863bfd594279_0.png', 'ce30a7a818885b083c90bb1a5624618b_0.png', 'ce3f89971ef16ebf7d4cfcb1654bb6df_0.png', 'ce446ab4b00f16f8d31bf036d3de6d05_0.png', 'ce63ec3876aedd9f2ea6b081d32a2392_0.png', 'cf04db955ccb70cd2c968552bff6ea9f_0.png', 'cf21e3729f5f8171acc003b4463193d7_0.png', 'cf6a63e2b6fc7fdacfb26c618e5b088e_0.png', 'd01a61c6e99aed8bd5dfa4469d1c371f_0.png', 'd0b6b3f0203299ec80051120129bcd62_0.png', 'd1098475c5cb6bd461bcdec637ced245_0.png', 'd1098475c5cb6bd461bcdec637ced245_1.png', 'd12ee7234f70a20262de18f444d8ee10_0.png', 'd1362593aba8cd713826b570bf255525_0.png', 'd14474bf09cffc1234d7f74943c65586_0.png', 'd2186b5da47f46bd4d370a549743e7e3_0.png', 'd2480a941c86c7b123b2e129529ed2cb_0.png', 'd2f06d3f142d392ff8d2e342f035b9a0_0.png', 'd2fb7d55c1c68c32359f92dc0aad620d_0.png', 'd3f52480aa930b7853f451fb9b09de63_0.png', 'd3f9b974f4ca6b7e35340b4383a54749_0.png', 'd4d6709708099be3e41efe52560560e1_0.png', 'd4d7457c790f41f7733d267916b88979_0.png', 'd500b0ed9f648d7988d28ac2e5674877_0.png', 'd512cb486d69adaaf3eb4b1a6cca8a2f_0.png', 'd55059128c637896ba58aced7ebcd698_0.png', 'd55d6d40951c29d65ea240d637e4a351_0.png', 'd569f447e701225f7b451dd798ec6ea3_0.png', 'd58a69badf6a6cd661b34e0193952063_0.png', 'd62268e6f2bb38fd38a825349b616e5e_0.png', 'd62268e6f2bb38fd38a825349b616e5e_1.png', 'd6c30ea4131f7148736a1b9db5799ac9_0.png', 'd6f3388c8eb647cf273f57faf96a7cdd_0.png', 'd6f3388c8eb647cf273f57faf96a7cdd_1.png', 'd76818df608939dece3a817709df7f83_0.png', 'd7b483d745f88485ecdc1810def5bd08_0.png', 'd8071f939bf5535c2250629bc0c1f2b4_0.png', 'd89317533d1ca29abe05734f949b0934_0.png', 'd8b60389fbc9df90e0dd41496cb03910_0.png', 'd947beca2a78afd5bb952b80bb93d828_0.png', 'd950fc3ee06a1970c0361244bc6d039a_0.png', 'd950fc3ee06a1970c0361244bc6d039a_1.png', 'da030dd0c253ac94b64c3c03b605882d_0.png', 'da1aa6383f620d26269ff6fb457f4a91_1.png', 'db93f9858c7d7dea1ac72ade2d4927b2_1.png', 'db93f9858c7d7dea1ac72ade2d4927b2_2.png', 'dbc376439f724d771d3a3f176910d30e_0.png', 'dbe9030f6a49b93e6657bf7c73c9f36d_0.png', 'dc22b23927b43d39da8c1af57085ee9a_0.png', 'dcb7f09ec8e0393e347248423a24a0a4_0.png', 'de2003313899df7ed4a0646b620d5c9e_0.png', 'de2003313899df7ed4a0646b620d5c9e_1.png', 'de3fc6d3489ef99670b1dc2d9588ef36_0.png', 'de518fde9362295b1ea3d1031de1971b_0.png', 'de518fde9362295b1ea3d1031de1971b_1.png', 'de65a61f62a83cff0cc2fc7372555928_0.png', 'deb1b50aa3f26f063d20a7c0e5ff3e50_0.png', 'ded2941f0260d920a336e01a50ee3a61_0.png', 'df3b929c34f804911d60e3546041b249_0.png', 'df99ffcb8581a1d7b5ff3a9c2de610b7_0.png', 'dfdecd3b4d8e590fab037360b182ff28_0.png', 'e047d6da846f9bc404870d7f5b2ea8fd_0.png', 'e0fa5ba72e49bbe28db7ffd226759187_0.png', 'e1aaaaa393000920da4d53b451012698_0.png', 'e1aaaaa393000920da4d53b451012698_1.png', 'e1aaaaa393000920da4d53b451012698_2.png', 'e1aaaaa393000920da4d53b451012698_3.png', 'e1aaaaa393000920da4d53b451012698_4.png', 'e1f2db2a03a69a9555d1fd2c7984fa09_0.png', 'e207b6d2cb4117ab18c7cf97cc8a4c81_0.png', 'e21cbd0f3eb54f3c1f3162dcb78555ba_0.png', 'e249aaff17aec17a5626009d7f2214ed_0.png', 'e29319f87566c14f9477bbeee20eb86d_0.png', 'e3e9c4ae4b41ac611c073722ee67ac36_0.png', 'e3e9c4ae4b41ac611c073722ee67ac36_1.png', 'e421048601c857e2ebca30751bfe7763_0.png', 'e421048601c857e2ebca30751bfe7763_1.png', 'e421df34432b4fc64d89fb744c386e71_0.png', 'e4803fa5a1c8745f5a27b95d63c1d04b_0.png', 'e504b41c7a787db3836e9da61092a13c_0.png', 'e594c2db8e5e0cd150ee0cf95178b29d_0.png', 'e594c2db8e5e0cd150ee0cf95178b29d_1.png', 'e594c2db8e5e0cd150ee0cf95178b29d_2.png', 'e594c2db8e5e0cd150ee0cf95178b29d_3.png', 'e62b82599a94f13a4c9430b789f6eb29_0.png', 'e68502402f187ab793e1d417ca28eddc_0.png', 'e69d6a1e37a0f67893e1020152cd4635_0.png', 'e71b7c91cdb917556de4dcb7dfd1e0c7_0.png', 'e7923d86f48ee9a73cdf3d7b754e84a8_0.png', 'e7d099b05fc99c39b28a3557acc12837_0.png', 'e8305673572e3ad7fab5cfc608a4a970_1.png', 'e84884a489f4e801fd8440c5596c83be_0.png', 'e873cd16fd9294c77068473532672ce6_0.png', 'e873cd16fd9294c77068473532672ce6_1.png', 'e893308e51c06d4b611ef73db425b07b_0.png', 'e893308e51c06d4b611ef73db425b07b_1.png', 'e905da59fe0d8089e0c0e74e0f04da76_0.png', 'e91e3180dc0c15eb6663684e70370f33_0.png', 'e93fbed4a2be871226c7152a0e091b87_0.png', 'ea33dd75835557434fb074f1e55bb17c_0.png', 'ebd77b6519ede2393700424073f1d810_0.png', 'ec4e3ac10fd0606a78ae8b4221abf703_0.png', 'ec95fced88cc2c85455d4f4c6020b630_0.png', 'ecaebadf4dbff10c5d61fbbf1179f3e9_0.png', 'ee623addd9ec6832eda993ef2f8a4826_0.png', 'ee788310c811fd84379ee1d64fac5a1f_0.png', 'ee7f42877f5fe4d0325dd24c71cebe0f_0.png', 'eef3aecc82ba0e69842bfc84b6fc7e51_0.png', 'ef3c5efad12230cdc0f6a11ef78b99dc_0.png', 'efbf7089ae773d7ea72d88d2f98fb297_0.png', 'efbf7089ae773d7ea72d88d2f98fb297_1.png', 'f0b2823522324c6a039630bf148bd607_0.png', 'f0b2823522324c6a039630bf148bd607_1.png', 'f0b63a6653ab144c1f64ab8e123ae662_0.png', 'f107018ff95198440c64a3656df80706_0.png', 'f1a3c0f9a6a43932bf8f51a44e43f6b3_0.png', 'f1b0323e4fcaab9e6de50d0cacd821f4_0.png', 'f1b365003991490f0479d9886956ec8a_0.png', 'f1b365003991490f0479d9886956ec8a_1.png', 'f1bd40f41eab8e6cad1b5c0cc250f423_0.png', 'f1bd40f41eab8e6cad1b5c0cc250f423_1.png', 'f1bd40f41eab8e6cad1b5c0cc250f423_2.png', 'f2036649c60a5d820be0ba277ac8dc86_0.png', 'f27196e29ec08e65f12347a4c0ad73ed_0.png', 'f2857d48d2173f38a0743c261c4935b8_0.png', 'f31fdfedf14100cd7d76b5a557134850_0.png', 'f38cf58b7378b7f67780229f35fc3788_0.png', 'f38cf58b7378b7f67780229f35fc3788_1.png', 'f3fb11dc51d0d4872f3e253605c02154_0.png', 'f453b32f5568fa5eba01632764944b7b_0.png', 'f453b32f5568fa5eba01632764944b7b_1.png', 'f453b32f5568fa5eba01632764944b7b_2.png', 'f453b32f5568fa5eba01632764944b7b_3.png', 'f46434c267bc392570aa9c71be351fe8_0.png', 'f46434c267bc392570aa9c71be351fe8_1.png', 'f47bfeb5012e19508501fa1a7d75ac58_0.png', 'f4c9195c2593623066feff4d45f6d8c1_0.png', 'f4c9195c2593623066feff4d45f6d8c1_1.png', 'f4c9195c2593623066feff4d45f6d8c1_2.png', 'f4ea544d35d19ae58c1fa34740d6c31e_0.png', 'f4efa0449c689256e38c1df16706ef8e_0.png', 'f5c1ec5e8557e6e79bcdec53ea11567b_0.png', 'f6ea0fad7eecd7bcc36230779b9aaa10_0.png', 'f7c294ef330542c31e433a50646f184d_0.png', 'f866514f4d9da8c409ec5a5b7c60b912_0.png', 'f914fda1ba2e3e2d6ef75905d34ca868_0.png', 'f95645ffe34b09f7b67a43aceb3f6619_0.png', 'f95645ffe34b09f7b67a43aceb3f6619_1.png', 'f95645ffe34b09f7b67a43aceb3f6619_2.png', 'fa3f8a89b7c08ac1c5c5b3637bcc6d12_0.png', 'fa5d8a90db19b5dd81a53cc3572763ed_0.png', 'fa65eaa008ea9b97118c7491533f3e09_0.png', 'fa6fb6f94a3ba6c9b98ba40a3e0d1175_1.png', 'fa6fb6f94a3ba6c9b98ba40a3e0d1175_2.png', 'fa802776435e57a2612d86b9133c246c_0.png', 'fabd3bb48d530b44f0b370ab1280a8d9_0.png', 'fb558da791876eaf1e251fb36cbe94ab_0.png', 'fb5a11e71a74514ca722292d5ddfd86b_0.png', 'fb5a11e71a74514ca722292d5ddfd86b_1.png', 'fb7a3ed908a2206060ed161389bcd2b7_0.png', 'fb95f7d1cc83435e22fdeb5a748e77f0_0.png', 'fb9ac54a518c1af11abe5721c395c056_0.png', 'fb9adc0e6d8c4fdebd66255342088626_0.png', 'fc7a762e77e901c7f62a2ad832f948d6_0.png', 'fc7a762e77e901c7f62a2ad832f948d6_1.png', 'fc8cfa134ff61d753932f38bec770f4d_0.png', 'fcbac4c0013676953e8d4a850578463b_0.png', 'fd03ed94f0816c4d94d9d235fa2739d1_0.png', 'fd41ed4e782d5b828d7613b9538e3243_0.png', 'fd8b701a9f04ceae6fd5368d9b3f473e_0.png', 'fdd395520e35dec6bace186784534fbd_0.png', 'fe47ad6108f38b8923e4b8e622fb039f_0.png', 'fe47ad6108f38b8923e4b8e622fb039f_1.png', 'fe538b56221f0c9413a04b16b527250b_0.png', 'fe538b56221f0c9413a04b16b527250b_1.png', 'fe5ddb7a17c9668b1ff27b281efe6c29_0.png', 'ff1c062ccf5f7baf6f9a01a61c908efe_0.png', 'ff1c062ccf5f7baf6f9a01a61c908efe_1.png', 'ff663c9388ae5fda0d93863ceb0f36cb_0.png']\n"
     ]
    }
   ],
   "source": [
    "print(test_ids)"
   ]
  },
  {
   "cell_type": "code",
   "execution_count": 127,
   "metadata": {},
   "outputs": [],
   "source": [
    "# Initialize arrays to store images and masks\n",
    "X_test = np.zeros((len(test_ids), IMG_HEIGHT, IMG_WIDTH, IMG_CHANNELS), dtype=np.uint8)\n",
    "Y_test = np.zeros((len(test_ids), IMG_HEIGHT, IMG_WIDTH, 1), dtype=bool)"
   ]
  },
  {
   "cell_type": "code",
   "execution_count": 131,
   "metadata": {},
   "outputs": [
    {
     "name": "stdout",
     "output_type": "stream",
     "text": [
      "Resizing testing images and masks\n"
     ]
    },
    {
     "name": "stderr",
     "output_type": "stream",
     "text": [
      " 33%|██████████████████████████▊                                                     | 278/831 [00:03<00:07, 69.78it/s]\n"
     ]
    }
   ],
   "source": [
    "print('Resizing testing images and masks')\n",
    "for n, id_ in tqdm(enumerate(test_ids), total=len(train_ids)):   \n",
    "    # Read and resize image\n",
    "    image_path = os.path.join(TEST_IMAGE_PATH, id_)\n",
    "    img = imread(image_path)[:,:,:IMG_CHANNELS]  \n",
    "    img = resize(img, (IMG_HEIGHT, IMG_WIDTH), mode='constant', preserve_range=True)\n",
    "    X_test[n] = img  # Fill empty X_train with values from img\n",
    "\n",
    "    # Read and resize mask\n",
    "    mask_path = os.path.join(TEST_LABEL_PATH, id_)\n",
    "    mask = imread(mask_path)\n",
    "    mask = np.sum(mask, axis=-1, keepdims=True)  # Collapse channels by summing\n",
    "    mask = resize(mask, (IMG_HEIGHT, IMG_WIDTH), mode='constant', preserve_range=True)\n",
    "    mask = mask.astype(bool)  # Convert mask to boolean values\n",
    "    Y_test[n] = mask  # Remove extra dimensions\n"
   ]
  },
  {
   "cell_type": "code",
   "execution_count": 142,
   "metadata": {},
   "outputs": [
    {
     "data": {
      "image/png": "[encoded data removed]",
      "text/plain": [
       "<Figure size 640x480 with 1 Axes>"
      ]
     },
     "metadata": {},
     "output_type": "display_data"
    },
    {
     "data": {
      "image/png": "[encoded data removed]",
      "text/plain": [
       "<Figure size 640x480 with 1 Axes>"
      ]
     },
     "metadata": {},
     "output_type": "display_data"
    }
   ],
   "source": [
    "image_x = random.randint(0, len(test_ids))\n",
    "imshow(X_test[image_x])\n",
    "plt.show()\n",
    "imshow(np.squeeze(Y_test[image_x]))\n",
    "plt.show()\n"
   ]
  },
  {
   "cell_type": "code",
   "execution_count": 143,
   "metadata": {},
   "outputs": [
    {
     "name": "stdout",
     "output_type": "stream",
     "text": [
      "9/9 [==============================] - 9s 516ms/step\n"
     ]
    }
   ],
   "source": [
    "preds_test = model.predict(X_test, verbose=1)"
   ]
  },
  {
   "cell_type": "code",
   "execution_count": 144,
   "metadata": {},
   "outputs": [
    {
     "name": "stdout",
     "output_type": "stream",
     "text": [
      "[[[[9.5068971e-03]\n",
      "   [4.2188279e-03]\n",
      "   [1.9237241e-03]\n",
      "   ...\n",
      "   [3.7670776e-05]\n",
      "   [8.6612476e-05]\n",
      "   [4.1017095e-03]]\n",
      "\n",
      "  [[3.4358453e-03]\n",
      "   [1.7515029e-03]\n",
      "   [9.8524289e-04]\n",
      "   ...\n",
      "   [9.3539353e-07]\n",
      "   [3.8630556e-06]\n",
      "   [6.1170745e-04]]\n",
      "\n",
      "  [[1.5805314e-03]\n",
      "   [1.4308535e-03]\n",
      "   [1.0416250e-03]\n",
      "   ...\n",
      "   [1.5583603e-07]\n",
      "   [5.3274891e-07]\n",
      "   [6.5727305e-04]]\n",
      "\n",
      "  ...\n",
      "\n",
      "  [[3.7636820e-04]\n",
      "   [8.5092379e-06]\n",
      "   [2.1802894e-06]\n",
      "   ...\n",
      "   [1.0349909e-09]\n",
      "   [2.4253470e-08]\n",
      "   [8.6051921e-05]]\n",
      "\n",
      "  [[3.8867348e-04]\n",
      "   [5.7032277e-05]\n",
      "   [1.5940055e-05]\n",
      "   ...\n",
      "   [1.3225885e-07]\n",
      "   [7.2975098e-07]\n",
      "   [6.2845694e-04]]\n",
      "\n",
      "  [[5.6133545e-03]\n",
      "   [1.2113682e-03]\n",
      "   [7.5458689e-04]\n",
      "   ...\n",
      "   [3.7431135e-05]\n",
      "   [8.6580934e-05]\n",
      "   [4.5313495e-03]]]\n",
      "\n",
      "\n",
      " [[[5.1076129e-02]\n",
      "   [3.8351882e-02]\n",
      "   [3.0299092e-02]\n",
      "   ...\n",
      "   [4.0859381e-05]\n",
      "   [9.3600036e-05]\n",
      "   [4.2982283e-03]]\n",
      "\n",
      "  [[2.2533167e-02]\n",
      "   [2.3223495e-02]\n",
      "   [2.3805082e-02]\n",
      "   ...\n",
      "   [1.0351334e-06]\n",
      "   [4.2516126e-06]\n",
      "   [6.5212784e-04]]\n",
      "\n",
      "  [[1.5979532e-02]\n",
      "   [2.7238050e-02]\n",
      "   [2.8770767e-02]\n",
      "   ...\n",
      "   [1.7449447e-07]\n",
      "   [5.9253478e-07]\n",
      "   [6.9716392e-04]]\n",
      "\n",
      "  ...\n",
      "\n",
      "  [[4.1864582e-04]\n",
      "   [9.8938699e-06]\n",
      "   [2.5859731e-06]\n",
      "   ...\n",
      "   [1.0686723e-09]\n",
      "   [2.4885423e-08]\n",
      "   [8.7228575e-05]]\n",
      "\n",
      "  [[4.3599034e-04]\n",
      "   [6.5750428e-05]\n",
      "   [1.8628230e-05]\n",
      "   ...\n",
      "   [1.3542227e-07]\n",
      "   [7.4469347e-07]\n",
      "   [6.3548464e-04]]\n",
      "\n",
      "  [[6.0969125e-03]\n",
      "   [1.3361775e-03]\n",
      "   [8.3613890e-04]\n",
      "   ...\n",
      "   [3.8031736e-05]\n",
      "   [8.7814711e-05]\n",
      "   [4.5700837e-03]]]\n",
      "\n",
      "\n",
      " [[[9.9882847e-03]\n",
      "   [4.7164168e-03]\n",
      "   [2.3304073e-03]\n",
      "   ...\n",
      "   [4.0238021e-05]\n",
      "   [9.2285161e-05]\n",
      "   [4.2619850e-03]]\n",
      "\n",
      "  [[3.6144315e-03]\n",
      "   [2.3165122e-03]\n",
      "   [1.3520741e-03]\n",
      "   ...\n",
      "   [1.0156079e-06]\n",
      "   [4.1779135e-06]\n",
      "   [6.4468454e-04]]\n",
      "\n",
      "  [[1.9666448e-03]\n",
      "   [2.4272315e-03]\n",
      "   [1.7368500e-03]\n",
      "   ...\n",
      "   [1.7079043e-07]\n",
      "   [5.8100647e-07]\n",
      "   [6.8977789e-04]]\n",
      "\n",
      "  ...\n",
      "\n",
      "  [[3.5799647e-04]\n",
      "   [8.0443415e-06]\n",
      "   [2.0493669e-06]\n",
      "   ...\n",
      "   [1.0552834e-09]\n",
      "   [2.4648003e-08]\n",
      "   [8.6789332e-05]]\n",
      "\n",
      "  [[3.6892292e-04]\n",
      "   [5.4165776e-05]\n",
      "   [1.5097439e-05]\n",
      "   ...\n",
      "   [1.3423302e-07]\n",
      "   [7.3913787e-07]\n",
      "   [6.3289353e-04]]\n",
      "\n",
      "  [[5.4210918e-03]\n",
      "   [1.1656083e-03]\n",
      "   [7.2857237e-04]\n",
      "   ...\n",
      "   [3.7811969e-05]\n",
      "   [8.7359433e-05]\n",
      "   [4.5560119e-03]]]\n",
      "\n",
      "\n",
      " ...\n",
      "\n",
      "\n",
      " [[[3.4174707e-02]\n",
      "   [1.9744977e-02]\n",
      "   [1.1862389e-02]\n",
      "   ...\n",
      "   [4.0852872e-05]\n",
      "   [9.3600036e-05]\n",
      "   [4.2982283e-03]]\n",
      "\n",
      "  [[1.6339254e-02]\n",
      "   [1.0856603e-02]\n",
      "   [7.3435251e-03]\n",
      "   ...\n",
      "   [1.0350120e-06]\n",
      "   [4.2516126e-06]\n",
      "   [6.5212784e-04]]\n",
      "\n",
      "  [[9.8933270e-03]\n",
      "   [1.0185554e-02]\n",
      "   [8.4326873e-03]\n",
      "   ...\n",
      "   [1.7446968e-07]\n",
      "   [5.9253478e-07]\n",
      "   [6.9716392e-04]]\n",
      "\n",
      "  ...\n",
      "\n",
      "  [[4.1365708e-04]\n",
      "   [9.7242473e-06]\n",
      "   [2.5357338e-06]\n",
      "   ...\n",
      "   [1.0686416e-09]\n",
      "   [2.4885423e-08]\n",
      "   [8.7228575e-05]]\n",
      "\n",
      "  [[4.3026905e-04]\n",
      "   [6.4661115e-05]\n",
      "   [1.8293980e-05]\n",
      "   ...\n",
      "   [1.3542201e-07]\n",
      "   [7.4469347e-07]\n",
      "   [6.3548464e-04]]\n",
      "\n",
      "  [[6.0388525e-03]\n",
      "   [1.3211148e-03]\n",
      "   [8.2614663e-04]\n",
      "   ...\n",
      "   [3.8031845e-05]\n",
      "   [8.7814711e-05]\n",
      "   [4.5700837e-03]]]\n",
      "\n",
      "\n",
      " [[[5.6229688e-02]\n",
      "   [4.0169109e-02]\n",
      "   [3.3356413e-02]\n",
      "   ...\n",
      "   [4.0875748e-05]\n",
      "   [9.3600036e-05]\n",
      "   [4.2982283e-03]]\n",
      "\n",
      "  [[2.8387224e-02]\n",
      "   [3.0061627e-02]\n",
      "   [2.7317664e-02]\n",
      "   ...\n",
      "   [1.0354375e-06]\n",
      "   [4.2516126e-06]\n",
      "   [6.5212784e-04]]\n",
      "\n",
      "  [[2.8156303e-02]\n",
      "   [4.6052061e-02]\n",
      "   [4.4379793e-02]\n",
      "   ...\n",
      "   [1.7455406e-07]\n",
      "   [5.9253478e-07]\n",
      "   [6.9716392e-04]]\n",
      "\n",
      "  ...\n",
      "\n",
      "  [[4.1864760e-04]\n",
      "   [9.8940300e-06]\n",
      "   [2.5859781e-06]\n",
      "   ...\n",
      "   [1.0686723e-09]\n",
      "   [2.4885423e-08]\n",
      "   [8.7228575e-05]]\n",
      "\n",
      "  [[4.3599034e-04]\n",
      "   [6.5750428e-05]\n",
      "   [1.8628230e-05]\n",
      "   ...\n",
      "   [1.3542227e-07]\n",
      "   [7.4469347e-07]\n",
      "   [6.3548464e-04]]\n",
      "\n",
      "  [[6.0969125e-03]\n",
      "   [1.3361775e-03]\n",
      "   [8.3613890e-04]\n",
      "   ...\n",
      "   [3.8031736e-05]\n",
      "   [8.7814711e-05]\n",
      "   [4.5700837e-03]]]\n",
      "\n",
      "\n",
      " [[[3.3201456e-02]\n",
      "   [2.5061049e-02]\n",
      "   [1.7168388e-02]\n",
      "   ...\n",
      "   [3.9638471e-05]\n",
      "   [9.1032496e-05]\n",
      "   [4.2269928e-03]]\n",
      "\n",
      "  [[1.4879633e-02]\n",
      "   [1.6226528e-02]\n",
      "   [1.2858422e-02]\n",
      "   ...\n",
      "   [9.9699844e-07]\n",
      "   [4.1078688e-06]\n",
      "   [6.3753873e-04]]\n",
      "\n",
      "  [[1.0101332e-02]\n",
      "   [1.9248962e-02]\n",
      "   [1.7807459e-02]\n",
      "   ...\n",
      "   [1.6729868e-07]\n",
      "   [5.7021998e-07]\n",
      "   [6.8274525e-04]]\n",
      "\n",
      "  ...\n",
      "\n",
      "  [[3.9377634e-04]\n",
      "   [9.0621261e-06]\n",
      "   [2.3416417e-06]\n",
      "   ...\n",
      "   [1.0661395e-09]\n",
      "   [2.4841178e-08]\n",
      "   [8.7146596e-05]]\n",
      "\n",
      "  [[4.0808262e-04]\n",
      "   [6.0507442e-05]\n",
      "   [1.7003525e-05]\n",
      "   ...\n",
      "   [1.3519916e-07]\n",
      "   [7.4365022e-07]\n",
      "   [6.3499605e-04]]\n",
      "\n",
      "  [[5.8123199e-03]\n",
      "   [1.2620181e-03]\n",
      "   [7.8722480e-04]\n",
      "   ...\n",
      "   [3.7990412e-05]\n",
      "   [8.7728666e-05]\n",
      "   [4.5673843e-03]]]]\n"
     ]
    }
   ],
   "source": [
    "print(preds_test)"
   ]
  },
  {
   "cell_type": "code",
   "execution_count": 145,
   "metadata": {},
   "outputs": [],
   "source": [
    "preds_test_t = (preds_test > 0.5).astype(np.uint8)"
   ]
  },
  {
   "cell_type": "code",
   "execution_count": 146,
   "metadata": {},
   "outputs": [
    {
     "name": "stdout",
     "output_type": "stream",
     "text": [
      "[[[[0]\n",
      "   [0]\n",
      "   [0]\n",
      "   ...\n",
      "   [0]\n",
      "   [0]\n",
      "   [0]]\n",
      "\n",
      "  [[0]\n",
      "   [0]\n",
      "   [0]\n",
      "   ...\n",
      "   [0]\n",
      "   [0]\n",
      "   [0]]\n",
      "\n",
      "  [[0]\n",
      "   [0]\n",
      "   [0]\n",
      "   ...\n",
      "   [0]\n",
      "   [0]\n",
      "   [0]]\n",
      "\n",
      "  ...\n",
      "\n",
      "  [[0]\n",
      "   [0]\n",
      "   [0]\n",
      "   ...\n",
      "   [0]\n",
      "   [0]\n",
      "   [0]]\n",
      "\n",
      "  [[0]\n",
      "   [0]\n",
      "   [0]\n",
      "   ...\n",
      "   [0]\n",
      "   [0]\n",
      "   [0]]\n",
      "\n",
      "  [[0]\n",
      "   [0]\n",
      "   [0]\n",
      "   ...\n",
      "   [0]\n",
      "   [0]\n",
      "   [0]]]\n",
      "\n",
      "\n",
      " [[[0]\n",
      "   [0]\n",
      "   [0]\n",
      "   ...\n",
      "   [0]\n",
      "   [0]\n",
      "   [0]]\n",
      "\n",
      "  [[0]\n",
      "   [0]\n",
      "   [0]\n",
      "   ...\n",
      "   [0]\n",
      "   [0]\n",
      "   [0]]\n",
      "\n",
      "  [[0]\n",
      "   [0]\n",
      "   [0]\n",
      "   ...\n",
      "   [0]\n",
      "   [0]\n",
      "   [0]]\n",
      "\n",
      "  ...\n",
      "\n",
      "  [[0]\n",
      "   [0]\n",
      "   [0]\n",
      "   ...\n",
      "   [0]\n",
      "   [0]\n",
      "   [0]]\n",
      "\n",
      "  [[0]\n",
      "   [0]\n",
      "   [0]\n",
      "   ...\n",
      "   [0]\n",
      "   [0]\n",
      "   [0]]\n",
      "\n",
      "  [[0]\n",
      "   [0]\n",
      "   [0]\n",
      "   ...\n",
      "   [0]\n",
      "   [0]\n",
      "   [0]]]\n",
      "\n",
      "\n",
      " [[[0]\n",
      "   [0]\n",
      "   [0]\n",
      "   ...\n",
      "   [0]\n",
      "   [0]\n",
      "   [0]]\n",
      "\n",
      "  [[0]\n",
      "   [0]\n",
      "   [0]\n",
      "   ...\n",
      "   [0]\n",
      "   [0]\n",
      "   [0]]\n",
      "\n",
      "  [[0]\n",
      "   [0]\n",
      "   [0]\n",
      "   ...\n",
      "   [0]\n",
      "   [0]\n",
      "   [0]]\n",
      "\n",
      "  ...\n",
      "\n",
      "  [[0]\n",
      "   [0]\n",
      "   [0]\n",
      "   ...\n",
      "   [0]\n",
      "   [0]\n",
      "   [0]]\n",
      "\n",
      "  [[0]\n",
      "   [0]\n",
      "   [0]\n",
      "   ...\n",
      "   [0]\n",
      "   [0]\n",
      "   [0]]\n",
      "\n",
      "  [[0]\n",
      "   [0]\n",
      "   [0]\n",
      "   ...\n",
      "   [0]\n",
      "   [0]\n",
      "   [0]]]\n",
      "\n",
      "\n",
      " ...\n",
      "\n",
      "\n",
      " [[[0]\n",
      "   [0]\n",
      "   [0]\n",
      "   ...\n",
      "   [0]\n",
      "   [0]\n",
      "   [0]]\n",
      "\n",
      "  [[0]\n",
      "   [0]\n",
      "   [0]\n",
      "   ...\n",
      "   [0]\n",
      "   [0]\n",
      "   [0]]\n",
      "\n",
      "  [[0]\n",
      "   [0]\n",
      "   [0]\n",
      "   ...\n",
      "   [0]\n",
      "   [0]\n",
      "   [0]]\n",
      "\n",
      "  ...\n",
      "\n",
      "  [[0]\n",
      "   [0]\n",
      "   [0]\n",
      "   ...\n",
      "   [0]\n",
      "   [0]\n",
      "   [0]]\n",
      "\n",
      "  [[0]\n",
      "   [0]\n",
      "   [0]\n",
      "   ...\n",
      "   [0]\n",
      "   [0]\n",
      "   [0]]\n",
      "\n",
      "  [[0]\n",
      "   [0]\n",
      "   [0]\n",
      "   ...\n",
      "   [0]\n",
      "   [0]\n",
      "   [0]]]\n",
      "\n",
      "\n",
      " [[[0]\n",
      "   [0]\n",
      "   [0]\n",
      "   ...\n",
      "   [0]\n",
      "   [0]\n",
      "   [0]]\n",
      "\n",
      "  [[0]\n",
      "   [0]\n",
      "   [0]\n",
      "   ...\n",
      "   [0]\n",
      "   [0]\n",
      "   [0]]\n",
      "\n",
      "  [[0]\n",
      "   [0]\n",
      "   [0]\n",
      "   ...\n",
      "   [0]\n",
      "   [0]\n",
      "   [0]]\n",
      "\n",
      "  ...\n",
      "\n",
      "  [[0]\n",
      "   [0]\n",
      "   [0]\n",
      "   ...\n",
      "   [0]\n",
      "   [0]\n",
      "   [0]]\n",
      "\n",
      "  [[0]\n",
      "   [0]\n",
      "   [0]\n",
      "   ...\n",
      "   [0]\n",
      "   [0]\n",
      "   [0]]\n",
      "\n",
      "  [[0]\n",
      "   [0]\n",
      "   [0]\n",
      "   ...\n",
      "   [0]\n",
      "   [0]\n",
      "   [0]]]\n",
      "\n",
      "\n",
      " [[[0]\n",
      "   [0]\n",
      "   [0]\n",
      "   ...\n",
      "   [0]\n",
      "   [0]\n",
      "   [0]]\n",
      "\n",
      "  [[0]\n",
      "   [0]\n",
      "   [0]\n",
      "   ...\n",
      "   [0]\n",
      "   [0]\n",
      "   [0]]\n",
      "\n",
      "  [[0]\n",
      "   [0]\n",
      "   [0]\n",
      "   ...\n",
      "   [0]\n",
      "   [0]\n",
      "   [0]]\n",
      "\n",
      "  ...\n",
      "\n",
      "  [[0]\n",
      "   [0]\n",
      "   [0]\n",
      "   ...\n",
      "   [0]\n",
      "   [0]\n",
      "   [0]]\n",
      "\n",
      "  [[0]\n",
      "   [0]\n",
      "   [0]\n",
      "   ...\n",
      "   [0]\n",
      "   [0]\n",
      "   [0]]\n",
      "\n",
      "  [[0]\n",
      "   [0]\n",
      "   [0]\n",
      "   ...\n",
      "   [0]\n",
      "   [0]\n",
      "   [0]]]]\n"
     ]
    }
   ],
   "source": [
    "print(preds_test_t)"
   ]
  },
  {
   "cell_type": "code",
   "execution_count": 174,
   "metadata": {},
   "outputs": [
    {
     "data": {
      "image/png": "[encoded data removed]",
      "text/plain": [
       "<Figure size 640x480 with 2 Axes>"
      ]
     },
     "metadata": {},
     "output_type": "display_data"
    }
   ],
   "source": [
    "import matplotlib.pyplot as plt\n",
    "\n",
    "# Assuming preds_test_t contains the binary predictions for the test data\n",
    "\n",
    "# Choose a sample index to visualize\n",
    "sample_index = random.randint(0,len(X_test))\n",
    "\n",
    "# Display original test image\n",
    "plt.subplot(1, 2, 1)\n",
    "plt.imshow(X_test[sample_index])\n",
    "plt.title('Original Image')\n",
    "\n",
    "# Display predicted mask\n",
    "plt.subplot(1, 2, 2)\n",
    "plt.imshow(preds_test_t[sample_index].squeeze(), cmap='gray')  # Squeeze to remove the channel dimension\n",
    "plt.title('Predicted Mask')\n",
    "\n",
    "plt.show()\n"
   ]
  },
  {
   "cell_type": "code",
   "execution_count": 175,
   "metadata": {},
   "outputs": [
    {
     "data": {
      "text/plain": [
       "0.9882869583239658"
      ]
     },
     "execution_count": 175,
     "metadata": {},
     "output_type": "execute_result"
    }
   ],
   "source": [
    "from sklearn.metrics import accuracy_score,confusion_matrix\n",
    "accuracy_score(preds_test_t.flatten(),Y_test.flatten())"
   ]
  },
  {
   "cell_type": "code",
   "execution_count": 176,
   "metadata": {},
   "outputs": [
    {
     "data": {
      "text/plain": [
       "array([[4364555,   31075],\n",
       "       [  22275,  136847]], dtype=int64)"
      ]
     },
     "execution_count": 176,
     "metadata": {},
     "output_type": "execute_result"
    }
   ],
   "source": [
    "confusion_matrix(preds_test_t.flatten(),Y_test.flatten())"
   ]
  },
  {
   "cell_type": "code",
   "execution_count": 178,
   "metadata": {},
   "outputs": [
    {
     "name": "stdout",
     "output_type": "stream",
     "text": [
      "Accuracy: 0.9882869583239658\n",
      "Precision: 0.8600130717311245\n",
      "Recall: 0.8149438429747144\n",
      "F1 Score: 0.8368721028363155\n"
     ]
    }
   ],
   "source": [
    "from sklearn.metrics import accuracy_score, precision_score, recall_score, f1_score\n",
    "\n",
    "# Assuming preds_test_t contains the binary predictions for the test data\n",
    "# And y_true contains the ground truth labels for the test data\n",
    "\n",
    "# Flatten the predictions and ground truth labels\n",
    "preds_flat = preds_test_t.flatten()\n",
    "y_true_flat = Y_test.flatten()\n",
    "\n",
    "# Calculate accuracy\n",
    "accuracy = accuracy_score(y_true_flat, preds_flat)\n",
    "\n",
    "# Calculate precision\n",
    "precision = precision_score(y_true_flat, preds_flat)\n",
    "\n",
    "# Calculate recall\n",
    "recall = recall_score(y_true_flat, preds_flat)\n",
    "\n",
    "# Calculate F1 score\n",
    "f1 = f1_score(y_true_flat, preds_flat)\n",
    "\n",
    "print(\"Accuracy:\", accuracy)\n",
    "print(\"Precision:\", precision)\n",
    "print(\"Recall:\", recall)\n",
    "print(\"F1 Score:\", f1)\n"
   ]
  },
  {
   "cell_type": "code",
   "execution_count": 179,
   "metadata": {},
   "outputs": [
    {
     "data": {
      "text/plain": [
       "<matplotlib.image.AxesImage at 0x148430c4c90>"
      ]
     },
     "execution_count": 179,
     "metadata": {},
     "output_type": "execute_result"
    },
    {
     "data": {
      "image/png": "[encoded data removed]",
      "text/plain": [
       "<Figure size 640x480 with 1 Axes>"
      ]
     },
     "metadata": {},
     "output_type": "display_data"
    }
   ],
   "source": [
    "plt.imshow(preds_test_t[3].squeeze())"
   ]
  },
  {
   "cell_type": "code",
   "execution_count": 180,
   "metadata": {},
   "outputs": [
    {
     "data": {
      "text/plain": [
       "<matplotlib.image.AxesImage at 0x14843dc1c90>"
      ]
     },
     "execution_count": 180,
     "metadata": {},
     "output_type": "execute_result"
    },
    {
     "data": {
      "image/png": "[encoded data removed]",
      "text/plain": [
       "<Figure size 640x480 with 1 Axes>"
      ]
     },
     "metadata": {},
     "output_type": "display_data"
    }
   ],
   "source": [
    "plt.imshow(X_test[3].squeeze())"
   ]
  },
  {
   "cell_type": "code",
   "execution_count": 190,
   "metadata": {},
   "outputs": [
    {
     "ename": "ValueError",
     "evalue": "shapes (128,128,3) and (128,128,1) not aligned: 3 (dim 2) != 128 (dim 1)",
     "output_type": "error",
     "traceback": [
      "\u001b[1;31m---------------------------------------------------------------------------\u001b[0m",
      "\u001b[1;31mValueError\u001b[0m                                Traceback (most recent call last)",
      "Cell \u001b[1;32mIn[190], line 1\u001b[0m\n\u001b[1;32m----> 1\u001b[0m \u001b[43mnp\u001b[49m\u001b[38;5;241;43m.\u001b[39;49m\u001b[43mdot\u001b[49m\u001b[43m(\u001b[49m\u001b[43mX_test\u001b[49m\u001b[43m[\u001b[49m\u001b[38;5;241;43m0\u001b[39;49m\u001b[43m]\u001b[49m\u001b[43m,\u001b[49m\u001b[43mpreds_test_t\u001b[49m\u001b[43m[\u001b[49m\u001b[38;5;241;43m0\u001b[39;49m\u001b[43m]\u001b[49m\u001b[43m)\u001b[49m\n",
      "File \u001b[1;32m<__array_function__ internals>:200\u001b[0m, in \u001b[0;36mdot\u001b[1;34m(*args, **kwargs)\u001b[0m\n",
      "\u001b[1;31mValueError\u001b[0m: shapes (128,128,3) and (128,128,1) not aligned: 3 (dim 2) != 128 (dim 1)"
     ]
    }
   ],
   "source": [
    "np.dot(X_test[0],preds_test_t[0])"
   ]
  },
  {
   "cell_type": "code",
   "execution_count": null,
   "metadata": {},
   "outputs": [],
   "source": []
  },
  {
   "cell_type": "code",
   "execution_count": null,
   "metadata": {},
   "outputs": [],
   "source": []
  }
 ],
 "metadata": {
  "kernelspec": {
   "display_name": "Python 3 (ipykernel)",
   "language": "python",
   "name": "python3"
  },
  "language_info": {
   "codemirror_mode": {
    "name": "ipython",
    "version": 3
   },
   "file_extension": ".py",
   "mimetype": "text/x-python",
   "name": "python",
   "nbconvert_exporter": "python",
   "pygments_lexer": "ipython3",
   "version": "3.11.5"
  }
 },
 "nbformat": 4,
 "nbformat_minor": 2
}
